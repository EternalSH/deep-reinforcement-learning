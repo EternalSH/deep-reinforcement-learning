{
 "cells": [
  {
   "cell_type": "markdown",
   "metadata": {},
   "source": [
    "# Continuous Control\n",
    "\n",
    "---\n",
    "\n",
    "You are welcome to use this coding environment to train your agent for the project.  Follow the instructions below to get started!\n",
    "\n",
    "### 1. Start the Environment\n",
    "\n",
    "Run the next code cell to install a few packages.  This line will take a few minutes to run!"
   ]
  },
  {
   "cell_type": "code",
   "execution_count": 1,
   "metadata": {},
   "outputs": [],
   "source": [
    "#!pip -q install ./python\n",
    "\n",
    "from unityagents import UnityEnvironment\n",
    "import numpy as np"
   ]
  },
  {
   "cell_type": "markdown",
   "metadata": {},
   "source": [
    "The environments corresponding to both versions of the environment are already saved in the Workspace and can be accessed at the file paths provided below.  \n",
    "\n",
    "Please select one of the two options below for loading the environment."
   ]
  },
  {
   "cell_type": "code",
   "execution_count": 2,
   "metadata": {},
   "outputs": [
    {
     "name": "stderr",
     "output_type": "stream",
     "text": [
      "INFO:unityagents:\n",
      "'Academy' started successfully!\n",
      "Unity Academy name: Academy\n",
      "        Number of Brains: 1\n",
      "        Number of External Brains : 1\n",
      "        Lesson number : 0\n",
      "        Reset Parameters :\n",
      "\t\tgoal_speed -> 1.0\n",
      "\t\tgoal_size -> 5.0\n",
      "Unity brain name: ReacherBrain\n",
      "        Number of Visual Observations (per agent): 0\n",
      "        Vector Observation space type: continuous\n",
      "        Vector Observation space size (per agent): 33\n",
      "        Number of stacked Vector Observation: 1\n",
      "        Vector Action space type: continuous\n",
      "        Vector Action space size (per agent): 4\n",
      "        Vector Action descriptions: , , , \n"
     ]
    }
   ],
   "source": [
    "from unityagents import UnityEnvironment\n",
    "import numpy as np\n",
    "\n",
    "# select this option to load version 1 (with a single agent) of the environment\n",
    "#env = UnityEnvironment(file_name='/data/Reacher_One_Linux_NoVis/Reacher_One_Linux_NoVis.x86_64')\n",
    "\n",
    "# select this option to load version 2 (with 20 agents) of the environment\n",
    "#env = UnityEnvironment(file_name='/data/Reacher_Linux_NoVis/Reacher.x86_64')\n",
    "\n",
    "env = UnityEnvironment(file_name='Reacher-20/Reacher.exe')"
   ]
  },
  {
   "cell_type": "markdown",
   "metadata": {},
   "source": [
    "Environments contain **_brains_** which are responsible for deciding the actions of their associated agents. Here we check for the first brain available, and set it as the default brain we will be controlling from Python."
   ]
  },
  {
   "cell_type": "code",
   "execution_count": 3,
   "metadata": {},
   "outputs": [
    {
     "name": "stdout",
     "output_type": "stream",
     "text": [
      "Unity brain name: ReacherBrain\n",
      "        Number of Visual Observations (per agent): 0\n",
      "        Vector Observation space type: continuous\n",
      "        Vector Observation space size (per agent): 33\n",
      "        Number of stacked Vector Observation: 1\n",
      "        Vector Action space type: continuous\n",
      "        Vector Action space size (per agent): 4\n",
      "        Vector Action descriptions: , , , \n"
     ]
    }
   ],
   "source": [
    "# get the default brain\n",
    "brain_name = env.brain_names[0]\n",
    "brain = env.brains[brain_name]\n",
    "print(brain)"
   ]
  },
  {
   "cell_type": "markdown",
   "metadata": {},
   "source": [
    "### 2. Examine the State and Action Spaces\n",
    "\n",
    "Run the code cell below to print some information about the environment."
   ]
  },
  {
   "cell_type": "code",
   "execution_count": 4,
   "metadata": {},
   "outputs": [
    {
     "name": "stdout",
     "output_type": "stream",
     "text": [
      "Number of agents: 20\n",
      "Size of each action: 4\n",
      "There are 20 agents. Each observes a state with length: 33\n",
      "The state for the first agent looks like: [ 0.00000000e+00 -4.00000000e+00  0.00000000e+00  1.00000000e+00\n",
      " -0.00000000e+00 -0.00000000e+00 -4.37113883e-08  0.00000000e+00\n",
      "  0.00000000e+00  0.00000000e+00  0.00000000e+00  0.00000000e+00\n",
      "  0.00000000e+00  0.00000000e+00 -1.00000000e+01  0.00000000e+00\n",
      "  1.00000000e+00 -0.00000000e+00 -0.00000000e+00 -4.37113883e-08\n",
      "  0.00000000e+00  0.00000000e+00  0.00000000e+00  0.00000000e+00\n",
      "  0.00000000e+00  0.00000000e+00  5.75471878e+00 -1.00000000e+00\n",
      "  5.55726624e+00  0.00000000e+00  1.00000000e+00  0.00000000e+00\n",
      " -1.68164849e-01]\n"
     ]
    }
   ],
   "source": [
    "# reset the environment\n",
    "env_info = env.reset(train_mode=True)[brain_name]\n",
    "\n",
    "# number of agents\n",
    "num_agents = len(env_info.agents)\n",
    "print('Number of agents:', num_agents)\n",
    "\n",
    "# size of each action\n",
    "action_size = brain.vector_action_space_size\n",
    "print('Size of each action:', action_size)\n",
    "\n",
    "# examine the state space \n",
    "states = env_info.vector_observations\n",
    "state_size = states.shape[1]\n",
    "print('There are {} agents. Each observes a state with length: {}'.format(states.shape[0], state_size))\n",
    "print('The state for the first agent looks like:', states[0])"
   ]
  },
  {
   "cell_type": "markdown",
   "metadata": {},
   "source": [
    "### 3. Take Random Actions in the Environment\n",
    "\n",
    "In the next code cell, you will learn how to use the Python API to control the agent and receive feedback from the environment.\n",
    "\n",
    "Note that **in this coding environment, you will not be able to watch the agents while they are training**, and you should set `train_mode=True` to restart the environment."
   ]
  },
  {
   "cell_type": "code",
   "execution_count": 5,
   "metadata": {},
   "outputs": [],
   "source": [
    "#env_info = env.reset(train_mode=True)[brain_name]      # reset the environment    \n",
    "#states = env_info.vector_observations                  # get the current state (for each agent)\n",
    "#scores = np.zeros(num_agents)                          # initialize the score (for each agent)\n",
    "#while True:\n",
    "#    actions = np.random.randn(num_agents, action_size) # select an action (for each agent)\n",
    "#    actions = np.clip(actions, -1, 1)                  # all actions between -1 and 1\n",
    "#    env_info = env.step(actions)[brain_name]           # send all actions to tne environment\n",
    "#    next_states = env_info.vector_observations         # get next state (for each agent)\n",
    "#    rewards = env_info.rewards                         # get reward (for each agent)\n",
    "#    dones = env_info.local_done                        # see if episode finished\n",
    "#    scores += env_info.rewards                         # update the score (for each agent)\n",
    "#    states = next_states                               # roll over states to next time step\n",
    "#    if np.any(dones):                                  # exit loop if episode finished\n",
    "#        break\n",
    "#print('Total score (averaged over agents) this episode: {}'.format(np.mean(scores)))"
   ]
  },
  {
   "cell_type": "markdown",
   "metadata": {},
   "source": [
    "When finished, you can close the environment."
   ]
  },
  {
   "cell_type": "markdown",
   "metadata": {},
   "source": [
    "### 4. It's Your Turn!\n",
    "\n",
    "Now it's your turn to train your own agent to solve the environment!  A few **important notes**:\n",
    "- When training the environment, set `train_mode=True`, so that the line for resetting the environment looks like the following:\n",
    "```python\n",
    "env_info = env.reset(train_mode=True)[brain_name]\n",
    "```\n",
    "- To structure your work, you're welcome to work directly in this Jupyter notebook, or you might like to start over with a new file!  You can see the list of files in the workspace by clicking on **_Jupyter_** in the top left corner of the notebook.\n",
    "- In this coding environment, you will not be able to watch the agents while they are training.  However, **_after training the agents_**, you can download the saved model weights to watch the agents on your own machine! "
   ]
  },
  {
   "cell_type": "code",
   "execution_count": 6,
   "metadata": {},
   "outputs": [],
   "source": [
    "import numpy as np\n",
    "import random\n",
    "import copy\n",
    "from collections import namedtuple, deque\n",
    "\n",
    "import torch\n",
    "import torch.nn as nn\n",
    "import torch.nn.functional as F\n",
    "import torch.optim as optim"
   ]
  },
  {
   "cell_type": "code",
   "execution_count": 7,
   "metadata": {},
   "outputs": [],
   "source": [
    "def hidden_init(layer):\n",
    "    fan_in = layer.weight.data.size()[0]\n",
    "    lim = 1. / np.sqrt(fan_in)\n",
    "    return (-lim, lim)"
   ]
  },
  {
   "cell_type": "code",
   "execution_count": 8,
   "metadata": {},
   "outputs": [],
   "source": [
    "class Actor(nn.Module):\n",
    "    \"\"\"Actor (Policy) Model.\"\"\"\n",
    "\n",
    "    def __init__(self, state_size, action_size, seed, dropout=0.1, fc1_units=400, fc2_units=300):\n",
    "        \"\"\"Initialize parameters and build model.\n",
    "        Params\n",
    "        ======\n",
    "            state_size (int): Dimension of each state\n",
    "            action_size (int): Dimension of each action\n",
    "            seed (int): Random seed\n",
    "            fc1_units (int): Number of nodes in first hidden layer\n",
    "            fc2_units (int): Number of nodes in second hidden layer\n",
    "        \"\"\"\n",
    "        super(Actor, self).__init__()\n",
    "        \n",
    "        #self.normalizer = nn.BatchNorm1d(state_size)\n",
    "        self.dropout = nn.Dropout(p=dropout)\n",
    "        self.seed = torch.manual_seed(seed)\n",
    "        \n",
    "        self.fc1 = nn.Linear(state_size, fc1_units)\n",
    "        self.fc2 = nn.Linear(fc1_units, fc2_units)\n",
    "        self.out = nn.Linear(fc2_units, action_size)\n",
    "        \n",
    "        self.reset_parameters()\n",
    "\n",
    "    def reset_parameters(self):\n",
    "        self.fc1.weight.data.uniform_(*hidden_init(self.fc1))\n",
    "        self.fc2.weight.data.uniform_(*hidden_init(self.fc2))\n",
    "        self.out.weight.data.uniform_(-3e-3, 3e-3)\n",
    "\n",
    "    def forward(self, states):\n",
    "        \"\"\"Build an actor (policy) network that maps states -> actions.\"\"\"\n",
    "        x = states\n",
    "        #x = self.normalizer(x)\n",
    "        \n",
    "        x = F.relu(self.fc1(x))\n",
    "        x = F.relu(self.fc2(x))\n",
    "        x = self.dropout(x)\n",
    "        \n",
    "        return torch.tanh(self.out(x))"
   ]
  },
  {
   "cell_type": "code",
   "execution_count": 9,
   "metadata": {},
   "outputs": [],
   "source": [
    "class Critic(nn.Module):\n",
    "    \"\"\"Critic (Value) Model.\"\"\"\n",
    "\n",
    "    def __init__(self, state_size, action_size, seed, dropout=0.1, fcs1_units=400, fc2_units=300):\n",
    "        \"\"\"Initialize parameters and build model.\n",
    "        Params\n",
    "        ======\n",
    "            state_size (int): Dimension of each state\n",
    "            action_size (int): Dimension of each action\n",
    "            seed (int): Random seed\n",
    "            fcs1_units (int): Number of nodes in the first hidden layer\n",
    "            fc2_units (int): Number of nodes in the second hidden layer\n",
    "        \"\"\"\n",
    "        super(Critic, self).__init__()\n",
    "        \n",
    "        #self.normalizer = nn.BatchNorm1d(state_size)\n",
    "        self.dropout = nn.Dropout(p=dropout)\n",
    "        self.seed = torch.manual_seed(seed)\n",
    "        \n",
    "        self.fcs1 = nn.Linear(state_size, fcs1_units)\n",
    "        self.fc2 = nn.Linear(fcs1_units+action_size, fc2_units)\n",
    "        self.fc3 = nn.Linear(fc2_units, 1)\n",
    "        \n",
    "        self.reset_parameters()\n",
    "\n",
    "    def reset_parameters(self):\n",
    "        self.fcs1.weight.data.uniform_(*hidden_init(self.fcs1))\n",
    "        self.fc2.weight.data.uniform_(*hidden_init(self.fc2))\n",
    "        self.fc3.weight.data.uniform_(-3e-3, 3e-3)\n",
    "\n",
    "    def forward(self, states, actions):\n",
    "        \"\"\"Build a critic (value) network that maps (state, action) pairs -> Q-values.\"\"\"\n",
    "        xs = states\n",
    "        #xs = self.normalizer(xs)\n",
    "        xs = F.relu(self.fcs1(xs))\n",
    "        \n",
    "        x = torch.cat((xs, actions), dim=1)\n",
    "        x = F.relu(self.fc2(x))\n",
    "        x = self.dropout(x)\n",
    "        \n",
    "        return self.fc3(x)"
   ]
  },
  {
   "cell_type": "code",
   "execution_count": 10,
   "metadata": {},
   "outputs": [],
   "source": [
    "class OUNoise:\n",
    "    \"\"\"Ornstein-Uhlenbeck process.\"\"\"\n",
    "\n",
    "    def __init__(self, size, seed, mu=0., theta=0.15, sigma=0.2):\n",
    "        \"\"\"Initialize parameters and noise process.\"\"\"\n",
    "        self.mu = mu * np.ones(size)\n",
    "        self.theta = theta\n",
    "        self.sigma = sigma\n",
    "        self.seed = random.seed(seed)\n",
    "        self.reset()\n",
    "\n",
    "    def reset(self):\n",
    "        \"\"\"Reset the internal state (= noise) to mean (mu).\"\"\"\n",
    "        self.state = copy.copy(self.mu)\n",
    "\n",
    "    def sample(self):\n",
    "        \"\"\"Update internal state and return it as a noise sample.\"\"\"\n",
    "        x = self.state\n",
    "        dx = self.theta * (self.mu - x) + self.sigma * np.array([random.random() for i in range(len(x))])\n",
    "        self.state = x + dx\n",
    "        return self.state"
   ]
  },
  {
   "cell_type": "code",
   "execution_count": 11,
   "metadata": {},
   "outputs": [
    {
     "name": "stdout",
     "output_type": "stream",
     "text": [
      "Using device: cuda:0\n"
     ]
    }
   ],
   "source": [
    "import torch\n",
    "import numpy as np\n",
    "from collections import deque\n",
    "import matplotlib.pyplot as plt\n",
    "%matplotlib inline\n",
    "\n",
    "device = torch.device(\"cuda:0\" if torch.cuda.is_available() else \"cpu\")\n",
    "\n",
    "print(f\"Using device: {device}\")"
   ]
  },
  {
   "cell_type": "code",
   "execution_count": 12,
   "metadata": {},
   "outputs": [],
   "source": [
    "class ReplayBuffer:\n",
    "    \"\"\"Fixed-size buffer to store experience tuples.\"\"\"\n",
    "\n",
    "    def __init__(self, action_size, buffer_size, batch_size, seed):\n",
    "        \"\"\"Initialize a ReplayBuffer object.\n",
    "        Params\n",
    "        ======\n",
    "            buffer_size (int): maximum size of buffer\n",
    "            batch_size (int): size of each training batch\n",
    "        \"\"\"\n",
    "        self.action_size = action_size\n",
    "        self.memory = deque(maxlen=buffer_size)  # internal memory (deque)\n",
    "        self.batch_size = batch_size\n",
    "        self.experience = namedtuple(\"Experience\", field_names=[\"state\", \"action\", \"reward\", \"next_state\", \"done\"])\n",
    "        self.seed = random.seed(seed)\n",
    "    \n",
    "    def add(self, state, action, reward, next_state, done):\n",
    "        \"\"\"Add a new experience to memory.\"\"\"\n",
    "        e = self.experience(state, action, reward, next_state, done)\n",
    "        self.memory.append(e)\n",
    "    \n",
    "    def sample(self):\n",
    "        \"\"\"Randomly sample a batch of experiences from memory.\"\"\"\n",
    "        experiences = random.sample(self.memory, k=self.batch_size)\n",
    "\n",
    "        states = torch.from_numpy(np.vstack([e.state for e in experiences if e is not None])).float().to(device)\n",
    "        actions = torch.from_numpy(np.vstack([e.action for e in experiences if e is not None])).float().to(device)\n",
    "        rewards = torch.from_numpy(np.vstack([e.reward for e in experiences if e is not None])).float().to(device)\n",
    "        next_states = torch.from_numpy(np.vstack([e.next_state for e in experiences if e is not None])).float().to(device)\n",
    "        dones = torch.from_numpy(np.vstack([e.done for e in experiences if e is not None]).astype(np.uint8)).float().to(device)\n",
    "\n",
    "        return (states, actions, rewards, next_states, dones)\n",
    "\n",
    "    def __len__(self):\n",
    "        \"\"\"Return the current size of internal memory.\"\"\"\n",
    "        return len(self.memory)\n"
   ]
  },
  {
   "cell_type": "code",
   "execution_count": 13,
   "metadata": {},
   "outputs": [],
   "source": [
    "class Agent():\n",
    "    \"\"\"Interacts with and learns from the environment.\"\"\"\n",
    "    \n",
    "    def __init__(self, device, state_size, action_size, random_seed, update_rate, \n",
    "                 learn_sessions = 10, ac1 = 400, ac2 = 300, cc1 = 400, cc2 = 300,\n",
    "                 dropout_a = 0.1, dropout_c = 0.1):\n",
    "        \"\"\"Initialize an Agent object.\n",
    "        \n",
    "        Params\n",
    "        ======\n",
    "            state_size (int): dimension of each state\n",
    "            action_size (int): dimension of each action\n",
    "            random_seed (int): random seed\n",
    "        \"\"\"\n",
    "        self.state_size = state_size\n",
    "        self.action_size = action_size\n",
    "        self.agents_count = 20\n",
    "        \n",
    "        self.seed = random.seed(random_seed)\n",
    "        self.update_rate = update_rate\n",
    "        self.learn_sessions = learn_sessions\n",
    "        \n",
    "        # Actor Network (w/ Target Network)\n",
    "        self.actor_local = Actor(state_size, action_size, random_seed, fc1_units = ac1, fc2_units = ac2, dropout = dropout_a).to(device)\n",
    "        self.actor_target = Actor(state_size, action_size, random_seed, fc1_units = ac1, fc2_units = ac2, dropout = dropout_a).to(device)\n",
    "        self.actor_optimizer = optim.Adam(self.actor_local.parameters(), lr=LR_ACTOR)\n",
    "\n",
    "        # Critic Network (w/ Target Network)\n",
    "        self.critic_local = Critic(state_size, action_size, random_seed, fcs1_units = cc1, fc2_units = cc2, dropout = dropout_c).to(device)\n",
    "        self.critic_target = Critic(state_size, action_size, random_seed, fcs1_units = cc1, fc2_units = cc2, dropout = dropout_c).to(device)\n",
    "        self.critic_optimizer = optim.Adam(self.critic_local.parameters(), lr=LR_CRITIC, weight_decay=WEIGHT_DECAY)\n",
    "\n",
    "        # Noise process\n",
    "        self.noise = OUNoise(action_size, random_seed)\n",
    "\n",
    "        # Replay memory\n",
    "        self.memory = ReplayBuffer(action_size, BUFFER_SIZE, BATCH_SIZE, random_seed)\n",
    "    \n",
    "    def step(self, states, actions, rewards, next_states, dones, t):\n",
    "        \"\"\"Save experience in replay memory, and use random sample from buffer to learn.\"\"\"\n",
    "        # Save experience in replay memory\n",
    "        for state, action, reward, next_state, done in zip(states, actions, rewards, next_states, dones):\n",
    "            self.memory.add(state, action, reward, next_state, done)\n",
    "\n",
    "        if t % self.update_rate == 0:\n",
    "            # Learn, if enough samples are available in memory\n",
    "            if len(self.memory) > BATCH_SIZE:\n",
    "                for _ in range(self.learn_sessions):\n",
    "                    experiences = self.memory.sample()\n",
    "                    self.learn(experiences, GAMMA)            \n",
    "        \n",
    "    def act(self, states, add_noise=True):\n",
    "        \"\"\"Returns actions for given state as per current policy.\"\"\"\n",
    "        states = torch.from_numpy(states).float().to(device)\n",
    "        self.actor_local.eval()\n",
    "        \n",
    "        with torch.no_grad():\n",
    "            actions = self.actor_local(states).cpu().data.numpy()\n",
    "            \n",
    "        self.actor_local.train()\n",
    "        \n",
    "        if add_noise:\n",
    "            actions += self.noise.sample()\n",
    "            \n",
    "        return np.clip(actions, -1, 1)\n",
    "\n",
    "    def reset(self):\n",
    "        self.noise.reset()\n",
    "\n",
    "    def learn(self, experiences, gamma):\n",
    "        \"\"\"Update policy and value parameters using given batch of experience tuples.\n",
    "        Q_targets = r + γ * critic_target(next_state, actor_target(next_state))\n",
    "        where:\n",
    "            actor_target(state) -> action\n",
    "            critic_target(state, action) -> Q-value\n",
    "\n",
    "        Params\n",
    "        ======\n",
    "            experiences (Tuple[torch.Tensor]): tuple of (s, a, r, s', done) tuples \n",
    "            gamma (float): discount factor\n",
    "        \"\"\"\n",
    "        states, actions, rewards, next_states, dones = experiences\n",
    "\n",
    "        # ---------------------------- update critic ---------------------------- #\n",
    "        # Get predicted next-state actions and Q values from target models\n",
    "        actions_next = self.actor_target(next_states)\n",
    "        Q_targets_next = self.critic_target(next_states, actions_next)\n",
    "        # Compute Q targets for current states (y_i)\n",
    "        Q_targets = rewards + (gamma * Q_targets_next * (1 - dones))\n",
    "        # Compute critic loss\n",
    "        Q_expected = self.critic_local(states, actions)\n",
    "        critic_loss = F.mse_loss(Q_expected, Q_targets)\n",
    "        # Minimize the loss\n",
    "        self.critic_optimizer.zero_grad()\n",
    "        critic_loss.backward()\n",
    "        torch.nn.utils.clip_grad_norm_(self.critic_local.parameters(), 1)\n",
    "        self.critic_optimizer.step()\n",
    "\n",
    "        # ---------------------------- update actor ---------------------------- #\n",
    "        # Compute actor loss\n",
    "        actions_pred = self.actor_local(states)\n",
    "        actor_loss = -self.critic_local(states, actions_pred).mean()\n",
    "        # Minimize the loss\n",
    "        self.actor_optimizer.zero_grad()\n",
    "        actor_loss.backward()\n",
    "        self.actor_optimizer.step()\n",
    "\n",
    "        # ----------------------- update target networks ----------------------- #\n",
    "        self.soft_update(self.critic_local, self.critic_target, TAU)\n",
    "        self.soft_update(self.actor_local, self.actor_target, TAU)                     \n",
    "\n",
    "    def soft_update(self, local_model, target_model, tau):\n",
    "        \"\"\"Soft update model parameters.\n",
    "        θ_target = τ*θ_local + (1 - τ)*θ_target\n",
    "\n",
    "        Params\n",
    "        ======\n",
    "            local_model: PyTorch model (weights will be copied from)\n",
    "            target_model: PyTorch model (weights will be copied to)\n",
    "            tau (float): interpolation parameter \n",
    "        \"\"\"\n",
    "        for target_param, local_param in zip(target_model.parameters(), local_model.parameters()):\n",
    "            target_param.data.copy_(tau*local_param.data + (1.0-tau)*target_param.data)"
   ]
  },
  {
   "cell_type": "code",
   "execution_count": 16,
   "metadata": {},
   "outputs": [],
   "source": [
    "import datetime\n",
    "\n",
    "def ddpg(n_episodes, max_t, window_size=100, print_every=10, early_break=False):\n",
    "    scores_deque = deque(maxlen=window_size)\n",
    "    scores_short = deque(maxlen=10)\n",
    "    all_scores = []\n",
    "    print('Starts training')\n",
    "    for i_episode in range(1, n_episodes+1):\n",
    "        agent.reset()\n",
    "        env_info = env.reset(train_mode=True)[brain_name]\n",
    "        states = env_info.vector_observations\n",
    "        scores = np.zeros(20)\n",
    "\n",
    "        \n",
    "        for t in range(max_t):\n",
    "            actions = agent.act(states)\n",
    "            env_info = env.step(actions)[brain_name]\n",
    "            next_states = env_info.vector_observations\n",
    "            rewards = env_info.rewards\n",
    "            dones = env_info.local_done\n",
    "\n",
    "            agent.step(states, actions, rewards, next_states, dones, t)\n",
    "            states = next_states\n",
    "            scores += rewards\n",
    "            if early_break and np.any(dones):\n",
    "                print(\"Early break at {}/{}\".format(t, max_t))\n",
    "                break\n",
    "\n",
    "        mean_score = np.mean(scores)\n",
    "        scores_deque.append(mean_score)\n",
    "        scores_short.append(mean_score)\n",
    "        all_scores.append(mean_score)            \n",
    "                    \n",
    "        if i_episode % print_every == 0:   \n",
    "            print('Episode {}\\tScore: {:.2f}\\tAverage Score 10, 100: {:.2f} {:.2f}'.format(i_episode, mean_score, np.mean(scores_short), np.mean(scores_deque)))\n",
    "            torch.save(agent.actor_local.state_dict(), 'checkpoint_actor.pth')\n",
    "            torch.save(agent.critic_local.state_dict(), 'checkpoint_critic.pth')\n",
    "           \n",
    "        if np.mean(scores_deque)>=30.0:\n",
    "            print('\\nEnvironment solved in {:d} episodes!\\tAverage Score: {:.3f}'.format(\n",
    "                i_episode-100, np.mean(scores_window)))\n",
    "            torch.save(agent.actor_local.state_dict(), 'checkpoint_actor.pth')\n",
    "            torch.save(agent.critic_local.state_dict(), 'checkpoint_critic.pth')\n",
    "            break\n",
    "            \n",
    "    return all_scores"
   ]
  },
  {
   "cell_type": "code",
   "execution_count": 16,
   "metadata": {},
   "outputs": [
    {
     "name": "stdout",
     "output_type": "stream",
     "text": [
      "Starts training\n",
      "Episode 10\tScore: 0.58\tAverage Score 10, 100: 0.42 0.42\n",
      "Episode 20\tScore: 2.18\tAverage Score 10, 100: 1.69 1.05\n",
      "Episode 30\tScore: 2.10\tAverage Score 10, 100: 1.97 1.36\n",
      "Episode 40\tScore: 2.24\tAverage Score 10, 100: 2.06 1.53\n",
      "Episode 50\tScore: 2.23\tAverage Score 10, 100: 2.26 1.68\n",
      "Episode 60\tScore: 2.00\tAverage Score 10, 100: 2.27 1.78\n",
      "Episode 70\tScore: 2.05\tAverage Score 10, 100: 2.29 1.85\n",
      "Episode 80\tScore: 1.75\tAverage Score 10, 100: 2.29 1.91\n",
      "Episode 90\tScore: 1.90\tAverage Score 10, 100: 2.48 1.97\n",
      "Episode 100\tScore: 2.59\tAverage Score 10, 100: 2.85 2.06\n",
      "Episode 110\tScore: 2.84\tAverage Score 10, 100: 2.96 2.31\n",
      "Episode 120\tScore: 4.69\tAverage Score 10, 100: 3.93 2.54\n",
      "Episode 130\tScore: 4.02\tAverage Score 10, 100: 4.18 2.76\n",
      "Episode 140\tScore: 5.12\tAverage Score 10, 100: 4.47 3.00\n",
      "Episode 150\tScore: 5.51\tAverage Score 10, 100: 4.95 3.27\n",
      "Episode 160\tScore: 4.20\tAverage Score 10, 100: 4.68 3.51\n",
      "Episode 170\tScore: 2.79\tAverage Score 10, 100: 3.98 3.68\n",
      "Episode 180\tScore: 1.78\tAverage Score 10, 100: 2.39 3.69\n",
      "Episode 190\tScore: 2.35\tAverage Score 10, 100: 2.25 3.66\n",
      "Episode 200\tScore: 1.03\tAverage Score 10, 100: 1.85 3.56\n",
      "Episode 210\tScore: 2.10\tAverage Score 10, 100: 1.79 3.45\n",
      "Episode 220\tScore: 2.98\tAverage Score 10, 100: 2.98 3.35\n",
      "Episode 230\tScore: 2.69\tAverage Score 10, 100: 2.73 3.21\n",
      "Episode 240\tScore: 2.85\tAverage Score 10, 100: 2.48 3.01\n",
      "Episode 250\tScore: 2.35\tAverage Score 10, 100: 2.29 2.74\n"
     ]
    },
    {
     "data": {
      "image/png": "[encoded data removed]",
      "text/plain": [
       "<matplotlib.figure.Figure at 0x7f807e681c88>"
      ]
     },
     "metadata": {
      "needs_background": "light"
     },
     "output_type": "display_data"
    }
   ],
   "source": [
    "BUFFER_SIZE = int(1e5)  # replay buffer size\n",
    "BATCH_SIZE = 512        # minibatch size\n",
    "GAMMA = 0.999           # discount factor\n",
    "TAU = 1e-3              # for soft update of target parameters\n",
    "LR_ACTOR = 1e-4         # learning rate of the actor \n",
    "LR_CRITIC = 1e-4        # learning rate of the critic\n",
    "WEIGHT_DECAY = 0        # L2 weight decay\n",
    "\n",
    "agent = Agent(state_size=state_size, action_size=action_size, device=device, random_seed=2, update_rate=20)\n",
    "scores = ddpg(250, 2500, early_break = False)\n",
    "\n",
    "# plot the scores\n",
    "fig = plt.figure()\n",
    "ax = fig.add_subplot(111)\n",
    "plt.plot(np.arange(len(scores)), scores)\n",
    "plt.ylabel('Score')\n",
    "plt.xlabel('Episode #')\n",
    "plt.show()"
   ]
  },
  {
   "cell_type": "code",
   "execution_count": 15,
   "metadata": {},
   "outputs": [
    {
     "name": "stdout",
     "output_type": "stream",
     "text": [
      "Starts training\n",
      "Episode 10\tScore: 0.69\tAverage Score 10, 100: 0.71 0.71\n",
      "Episode 20\tScore: 1.75\tAverage Score 10, 100: 1.46 1.08\n",
      "Episode 30\tScore: 1.25\tAverage Score 10, 100: 2.00 1.39\n",
      "Episode 40\tScore: 1.48\tAverage Score 10, 100: 1.40 1.39\n",
      "Episode 50\tScore: 2.77\tAverage Score 10, 100: 2.10 1.53\n",
      "Episode 60\tScore: 1.98\tAverage Score 10, 100: 2.31 1.66\n",
      "Episode 70\tScore: 3.05\tAverage Score 10, 100: 2.84 1.83\n",
      "Episode 80\tScore: 3.68\tAverage Score 10, 100: 3.27 2.01\n",
      "Episode 90\tScore: 2.78\tAverage Score 10, 100: 3.30 2.15\n",
      "Episode 100\tScore: 5.93\tAverage Score 10, 100: 3.85 2.32\n",
      "Episode 110\tScore: 3.36\tAverage Score 10, 100: 4.47 2.70\n",
      "Episode 120\tScore: 1.82\tAverage Score 10, 100: 2.66 2.82\n",
      "Episode 130\tScore: 1.69\tAverage Score 10, 100: 1.60 2.78\n",
      "Episode 140\tScore: 1.03\tAverage Score 10, 100: 1.50 2.79\n",
      "Episode 150\tScore: 1.89\tAverage Score 10, 100: 2.20 2.80\n",
      "Episode 160\tScore: 1.95\tAverage Score 10, 100: 2.15 2.78\n",
      "Episode 170\tScore: 3.83\tAverage Score 10, 100: 2.77 2.78\n",
      "Episode 180\tScore: 2.79\tAverage Score 10, 100: 2.88 2.74\n",
      "Episode 190\tScore: 2.54\tAverage Score 10, 100: 2.76 2.68\n",
      "Episode 200\tScore: 2.12\tAverage Score 10, 100: 2.28 2.53\n",
      "Episode 210\tScore: 1.17\tAverage Score 10, 100: 1.60 2.24\n",
      "Episode 220\tScore: 0.62\tAverage Score 10, 100: 1.19 2.09\n",
      "Episode 230\tScore: 0.40\tAverage Score 10, 100: 0.78 2.01\n",
      "Episode 240\tScore: 0.29\tAverage Score 10, 100: 0.57 1.92\n",
      "Episode 250\tScore: 0.84\tAverage Score 10, 100: 0.66 1.76\n"
     ]
    },
    {
     "data": {
      "image/png": "[encoded data removed]",
      "text/plain": [
       "<matplotlib.figure.Figure at 0x7fa5659965c0>"
      ]
     },
     "metadata": {
      "needs_background": "light"
     },
     "output_type": "display_data"
    }
   ],
   "source": [
    "BUFFER_SIZE = int(1e5)  # replay buffer size\n",
    "BATCH_SIZE = 1024       # minibatch size\n",
    "GAMMA = 0.999           # discount factor\n",
    "TAU = 1e-3              # for soft update of target parameters\n",
    "LR_ACTOR = 1e-4         # learning rate of the actor \n",
    "LR_CRITIC = 1e-4        # learning rate of the critic\n",
    "WEIGHT_DECAY = 0        # L2 weight decay\n",
    "\n",
    "agent = Agent(state_size=state_size, action_size=action_size, device=device, random_seed=2, update_rate=20)\n",
    "scores = ddpg(250, 2500, early_break = False)\n",
    "\n",
    "# plot the scores\n",
    "fig = plt.figure()\n",
    "ax = fig.add_subplot(111)\n",
    "plt.plot(np.arange(len(scores)), scores)\n",
    "plt.ylabel('Score')\n",
    "plt.xlabel('Episode #')\n",
    "plt.show()"
   ]
  },
  {
   "cell_type": "code",
   "execution_count": 15,
   "metadata": {},
   "outputs": [
    {
     "name": "stdout",
     "output_type": "stream",
     "text": [
      "Starts training\n",
      "Episode 10\tScore: 0.21\tAverage Score 10, 100: 0.20 0.20\n",
      "Episode 20\tScore: 0.70\tAverage Score 10, 100: 0.99 0.59\n",
      "Episode 30\tScore: 1.03\tAverage Score 10, 100: 1.00 0.73\n",
      "Episode 40\tScore: 0.44\tAverage Score 10, 100: 0.54 0.68\n",
      "Episode 50\tScore: 0.27\tAverage Score 10, 100: 0.47 0.64\n",
      "Episode 60\tScore: 0.13\tAverage Score 10, 100: 0.16 0.56\n",
      "Episode 70\tScore: 1.29\tAverage Score 10, 100: 0.52 0.56\n",
      "Episode 80\tScore: 1.29\tAverage Score 10, 100: 1.03 0.61\n",
      "Episode 90\tScore: 1.49\tAverage Score 10, 100: 1.38 0.70\n",
      "Episode 100\tScore: 1.93\tAverage Score 10, 100: 1.49 0.78\n",
      "Episode 110\tScore: 2.16\tAverage Score 10, 100: 1.86 0.94\n",
      "Episode 120\tScore: 1.55\tAverage Score 10, 100: 1.49 0.99\n",
      "Episode 130\tScore: 1.49\tAverage Score 10, 100: 1.55 1.05\n",
      "Episode 140\tScore: 1.84\tAverage Score 10, 100: 1.70 1.17\n",
      "Episode 150\tScore: 1.67\tAverage Score 10, 100: 1.62 1.28\n",
      "Episode 160\tScore: 1.91\tAverage Score 10, 100: 1.75 1.44\n",
      "Episode 170\tScore: 1.64\tAverage Score 10, 100: 1.80 1.57\n",
      "Episode 180\tScore: 1.88\tAverage Score 10, 100: 1.79 1.64\n",
      "Episode 190\tScore: 1.46\tAverage Score 10, 100: 1.69 1.67\n",
      "Episode 200\tScore: 1.03\tAverage Score 10, 100: 1.31 1.66\n",
      "Episode 210\tScore: 1.36\tAverage Score 10, 100: 1.59 1.63\n",
      "Episode 220\tScore: 1.57\tAverage Score 10, 100: 1.78 1.66\n",
      "Episode 230\tScore: 2.07\tAverage Score 10, 100: 1.71 1.67\n",
      "Episode 240\tScore: 1.71\tAverage Score 10, 100: 1.92 1.70\n",
      "Episode 250\tScore: 1.27\tAverage Score 10, 100: 1.84 1.72\n"
     ]
    },
    {
     "data": {
      "image/png": "[encoded data removed]",
      "text/plain": [
       "<matplotlib.figure.Figure at 0x7f0147eda240>"
      ]
     },
     "metadata": {
      "needs_background": "light"
     },
     "output_type": "display_data"
    }
   ],
   "source": [
    "BUFFER_SIZE = int(1e5)  # replay buffer size\n",
    "BATCH_SIZE = 1024       # minibatch size\n",
    "GAMMA = 0.999           # discount factor\n",
    "TAU = 1e-4              # for soft update of target parameters\n",
    "LR_ACTOR = 1e-4         # learning rate of the actor \n",
    "LR_CRITIC = 1e-4        # learning rate of the critic\n",
    "WEIGHT_DECAY = 0        # L2 weight decay\n",
    "\n",
    "agent = Agent(state_size=state_size, action_size=action_size, device=device, random_seed=2, update_rate=50)\n",
    "scores = ddpg(250, 2500, early_break = False)\n",
    "\n",
    "# plot the scores\n",
    "fig = plt.figure()\n",
    "ax = fig.add_subplot(111)\n",
    "plt.plot(np.arange(len(scores)), scores)\n",
    "plt.ylabel('Score')\n",
    "plt.xlabel('Episode #')\n",
    "plt.show()"
   ]
  },
  {
   "cell_type": "code",
   "execution_count": 15,
   "metadata": {},
   "outputs": [
    {
     "name": "stdout",
     "output_type": "stream",
     "text": [
      "Starts training\n",
      "Episode 10\tScore: 0.42\tAverage Score 10, 100: 0.29 0.29\n",
      "Episode 20\tScore: 0.64\tAverage Score 10, 100: 0.62 0.46\n",
      "Episode 30\tScore: 0.70\tAverage Score 10, 100: 0.67 0.53\n",
      "Episode 40\tScore: 0.65\tAverage Score 10, 100: 0.37 0.49\n",
      "Episode 50\tScore: 1.30\tAverage Score 10, 100: 1.10 0.61\n",
      "Episode 60\tScore: 1.04\tAverage Score 10, 100: 1.20 0.71\n",
      "Episode 70\tScore: 1.19\tAverage Score 10, 100: 1.08 0.76\n",
      "Episode 80\tScore: 1.43\tAverage Score 10, 100: 1.37 0.84\n",
      "Episode 90\tScore: 1.50\tAverage Score 10, 100: 1.53 0.91\n",
      "Episode 100\tScore: 1.21\tAverage Score 10, 100: 1.57 0.98\n",
      "Episode 110\tScore: 2.24\tAverage Score 10, 100: 1.59 1.11\n",
      "Episode 120\tScore: 2.06\tAverage Score 10, 100: 1.70 1.22\n",
      "Episode 130\tScore: 1.85\tAverage Score 10, 100: 1.82 1.33\n",
      "Episode 140\tScore: 1.49\tAverage Score 10, 100: 1.56 1.45\n",
      "Episode 150\tScore: 1.71\tAverage Score 10, 100: 1.49 1.49\n",
      "Episode 160\tScore: 1.67\tAverage Score 10, 100: 1.73 1.54\n",
      "Episode 170\tScore: 1.96\tAverage Score 10, 100: 1.77 1.61\n",
      "Episode 180\tScore: 2.04\tAverage Score 10, 100: 1.74 1.65\n",
      "Episode 190\tScore: 2.26\tAverage Score 10, 100: 2.09 1.71\n",
      "Episode 200\tScore: 2.51\tAverage Score 10, 100: 2.26 1.77\n",
      "Episode 210\tScore: 1.80\tAverage Score 10, 100: 2.13 1.83\n",
      "Episode 220\tScore: 1.82\tAverage Score 10, 100: 2.04 1.86\n",
      "Episode 230\tScore: 2.01\tAverage Score 10, 100: 2.34 1.91\n",
      "Episode 240\tScore: 2.08\tAverage Score 10, 100: 2.10 1.97\n",
      "Episode 250\tScore: 2.87\tAverage Score 10, 100: 2.25 2.04\n"
     ]
    },
    {
     "data": {
      "image/png": "[encoded data removed]",
      "text/plain": [
       "<matplotlib.figure.Figure at 0x7f9f858960f0>"
      ]
     },
     "metadata": {
      "needs_background": "light"
     },
     "output_type": "display_data"
    }
   ],
   "source": [
    "BUFFER_SIZE = int(1e5)  # replay buffer size\n",
    "BATCH_SIZE = 1024       # minibatch size\n",
    "GAMMA = 0.999           # discount factor\n",
    "TAU = 1e-4              # for soft update of target parameters\n",
    "LR_ACTOR = 1e-4         # learning rate of the actor \n",
    "LR_CRITIC = 1e-4        # learning rate of the critic\n",
    "WEIGHT_DECAY = 0        # L2 weight decay\n",
    "\n",
    "agent = Agent(state_size=state_size, action_size=action_size, device=device, random_seed=2, update_rate=50)\n",
    "scores = ddpg(250, 2500, early_break = False)\n",
    "\n",
    "# plot the scores\n",
    "fig = plt.figure()\n",
    "ax = fig.add_subplot(111)\n",
    "plt.plot(np.arange(len(scores)), scores)\n",
    "plt.ylabel('Score')\n",
    "plt.xlabel('Episode #')\n",
    "plt.show()"
   ]
  },
  {
   "cell_type": "code",
   "execution_count": 15,
   "metadata": {},
   "outputs": [
    {
     "name": "stdout",
     "output_type": "stream",
     "text": [
      "Starts training\n",
      "Episode 10\tScore: 1.33\tAverage Score 10, 100: 0.87 0.87\n",
      "Episode 20\tScore: 2.14\tAverage Score 10, 100: 1.41 1.14\n",
      "Episode 30\tScore: 1.59\tAverage Score 10, 100: 1.57 1.28\n",
      "Episode 40\tScore: 2.21\tAverage Score 10, 100: 2.04 1.47\n",
      "Episode 50\tScore: 3.93\tAverage Score 10, 100: 3.00 1.78\n",
      "Episode 60\tScore: 3.63\tAverage Score 10, 100: 3.60 2.08\n",
      "Episode 70\tScore: 5.11\tAverage Score 10, 100: 4.24 2.39\n",
      "Episode 80\tScore: 5.26\tAverage Score 10, 100: 4.99 2.71\n",
      "Episode 90\tScore: 6.81\tAverage Score 10, 100: 5.63 3.04\n",
      "Episode 100\tScore: 7.40\tAverage Score 10, 100: 6.23 3.36\n",
      "Episode 110\tScore: 7.82\tAverage Score 10, 100: 7.79 4.05\n",
      "Episode 120\tScore: 8.21\tAverage Score 10, 100: 7.95 4.70\n",
      "Episode 130\tScore: 8.45\tAverage Score 10, 100: 9.01 5.45\n",
      "Episode 140\tScore: 10.45\tAverage Score 10, 100: 9.92 6.24\n",
      "Episode 150\tScore: 11.11\tAverage Score 10, 100: 10.60 7.00\n",
      "Episode 160\tScore: 8.01\tAverage Score 10, 100: 8.63 7.50\n",
      "Episode 170\tScore: 10.20\tAverage Score 10, 100: 8.63 7.94\n",
      "Episode 180\tScore: 6.93\tAverage Score 10, 100: 7.97 8.24\n",
      "Episode 190\tScore: 4.22\tAverage Score 10, 100: 5.90 8.26\n",
      "Episode 200\tScore: 5.89\tAverage Score 10, 100: 5.06 8.15\n",
      "Episode 210\tScore: 5.44\tAverage Score 10, 100: 5.74 7.94\n",
      "Episode 220\tScore: 5.15\tAverage Score 10, 100: 5.57 7.70\n",
      "Episode 230\tScore: 5.71\tAverage Score 10, 100: 5.07 7.31\n",
      "Episode 240\tScore: 4.08\tAverage Score 10, 100: 5.32 6.85\n",
      "Episode 250\tScore: 5.64\tAverage Score 10, 100: 6.02 6.39\n"
     ]
    },
    {
     "data": {
      "image/png": "[encoded data removed]",
      "text/plain": [
       "<matplotlib.figure.Figure at 0x7f4e6b489320>"
      ]
     },
     "metadata": {
      "needs_background": "light"
     },
     "output_type": "display_data"
    }
   ],
   "source": [
    "BUFFER_SIZE = int(1e5)  # replay buffer size\n",
    "BATCH_SIZE = 1024       # minibatch size\n",
    "GAMMA = 0.999           # discount factor\n",
    "TAU = 1e-4              # for soft update of target parameters\n",
    "LR_ACTOR = 1e-4         # learning rate of the actor \n",
    "LR_CRITIC = 1e-4        # learning rate of the critic\n",
    "WEIGHT_DECAY = 0        # L2 weight decay\n",
    "\n",
    "agent = Agent(state_size=state_size, action_size=action_size, device=device, random_seed=2, update_rate=50)\n",
    "scores = ddpg(250, 2500, early_break = False)\n",
    "\n",
    "# plot the scores\n",
    "fig = plt.figure()\n",
    "ax = fig.add_subplot(111)\n",
    "plt.plot(np.arange(len(scores)), scores)\n",
    "plt.ylabel('Score')\n",
    "plt.xlabel('Episode #')\n",
    "plt.show()"
   ]
  },
  {
   "cell_type": "code",
   "execution_count": 18,
   "metadata": {},
   "outputs": [
    {
     "name": "stdout",
     "output_type": "stream",
     "text": [
      "Starts training\n",
      "Episode 10\tScore: 1.56\tAverage Score 10, 100: 1.11 1.11\n",
      "Episode 20\tScore: 1.28\tAverage Score 10, 100: 1.56 1.33\n",
      "Episode 30\tScore: 1.55\tAverage Score 10, 100: 1.19 1.28\n",
      "Episode 40\tScore: 1.84\tAverage Score 10, 100: 1.34 1.30\n",
      "Episode 50\tScore: 1.35\tAverage Score 10, 100: 1.55 1.35\n",
      "Episode 60\tScore: 1.95\tAverage Score 10, 100: 1.48 1.37\n",
      "Episode 70\tScore: 2.01\tAverage Score 10, 100: 1.84 1.44\n",
      "Episode 80\tScore: 2.24\tAverage Score 10, 100: 2.11 1.52\n",
      "Episode 90\tScore: 3.35\tAverage Score 10, 100: 2.89 1.68\n",
      "Episode 100\tScore: 3.02\tAverage Score 10, 100: 2.97 1.80\n",
      "Episode 110\tScore: 6.10\tAverage Score 10, 100: 4.64 2.16\n",
      "Episode 120\tScore: 7.99\tAverage Score 10, 100: 6.19 2.62\n",
      "Episode 130\tScore: 6.10\tAverage Score 10, 100: 6.69 3.17\n",
      "Episode 140\tScore: 8.35\tAverage Score 10, 100: 8.14 3.85\n",
      "Episode 150\tScore: 10.03\tAverage Score 10, 100: 9.62 4.66\n",
      "Episode 160\tScore: 10.56\tAverage Score 10, 100: 10.42 5.55\n",
      "Episode 170\tScore: 10.43\tAverage Score 10, 100: 11.01 6.47\n",
      "Episode 180\tScore: 12.04\tAverage Score 10, 100: 10.43 7.30\n",
      "Episode 190\tScore: 12.51\tAverage Score 10, 100: 10.82 8.09\n",
      "Episode 200\tScore: 11.69\tAverage Score 10, 100: 11.22 8.92\n",
      "Episode 210\tScore: 21.07\tAverage Score 10, 100: 15.12 9.96\n",
      "Episode 220\tScore: 26.53\tAverage Score 10, 100: 24.14 11.76\n",
      "Episode 230\tScore: 31.15\tAverage Score 10, 100: 29.26 14.02\n",
      "Episode 240\tScore: 34.33\tAverage Score 10, 100: 34.14 16.62\n",
      "Episode 250\tScore: 34.92\tAverage Score 10, 100: 33.62 19.02\n"
     ]
    },
    {
     "data": {
      "image/png": "[encoded data removed]",
      "text/plain": [
       "<matplotlib.figure.Figure at 0x7fd6c80a0da0>"
      ]
     },
     "metadata": {
      "needs_background": "light"
     },
     "output_type": "display_data"
    }
   ],
   "source": [
    "BUFFER_SIZE = int(1e5)  # replay buffer size\n",
    "BATCH_SIZE = 1024       # minibatch size\n",
    "GAMMA = 0.999           # discount factor\n",
    "TAU = 1e-4              # for soft update of target parameters\n",
    "LR_ACTOR = 1e-4         # learning rate of the actor \n",
    "LR_CRITIC = 1e-4        # learning rate of the critic\n",
    "WEIGHT_DECAY = 0        # L2 weight decay\n",
    "\n",
    "agent = Agent(state_size=state_size, action_size=action_size, device=device, random_seed=2, update_rate=50, \n",
    "              ac1=256, ac2=128, cc1=256, cc2=128)\n",
    "scores = ddpg(250, 2500, early_break = False)\n",
    "\n",
    "# plot the scores\n",
    "fig = plt.figure()\n",
    "ax = fig.add_subplot(111)\n",
    "plt.plot(np.arange(len(scores)), scores)\n",
    "plt.ylabel('Score')\n",
    "plt.xlabel('Episode #')\n",
    "plt.show()"
   ]
  },
  {
   "cell_type": "code",
   "execution_count": 15,
   "metadata": {},
   "outputs": [
    {
     "name": "stdout",
     "output_type": "stream",
     "text": [
      "Starts training\n",
      "Episode 10\tScore: 1.77\tAverage Score 10, 100: 1.37 1.37\n",
      "Episode 20\tScore: 2.54\tAverage Score 10, 100: 2.00 1.68\n",
      "Episode 30\tScore: 2.56\tAverage Score 10, 100: 2.25 1.87\n",
      "Episode 40\tScore: 2.28\tAverage Score 10, 100: 2.43 2.01\n",
      "Episode 50\tScore: 2.99\tAverage Score 10, 100: 2.80 2.17\n",
      "Episode 60\tScore: 3.20\tAverage Score 10, 100: 2.94 2.30\n",
      "Episode 70\tScore: 2.95\tAverage Score 10, 100: 3.16 2.42\n",
      "Episode 80\tScore: 6.37\tAverage Score 10, 100: 4.62 2.70\n",
      "Episode 90\tScore: 7.66\tAverage Score 10, 100: 6.76 3.15\n",
      "Episode 100\tScore: 9.64\tAverage Score 10, 100: 8.51 3.68\n",
      "Episode 110\tScore: 8.27\tAverage Score 10, 100: 8.54 4.40\n",
      "Episode 120\tScore: 10.94\tAverage Score 10, 100: 8.73 5.07\n",
      "Episode 130\tScore: 10.84\tAverage Score 10, 100: 9.59 5.81\n",
      "Episode 140\tScore: 9.36\tAverage Score 10, 100: 10.63 6.63\n",
      "Episode 150\tScore: 17.36\tAverage Score 10, 100: 14.51 7.80\n",
      "Episode 160\tScore: 18.46\tAverage Score 10, 100: 17.91 9.29\n",
      "Episode 170\tScore: 27.87\tAverage Score 10, 100: 23.46 11.32\n",
      "Episode 180\tScore: 28.16\tAverage Score 10, 100: 31.82 14.04\n",
      "Episode 190\tScore: 26.94\tAverage Score 10, 100: 29.45 16.31\n",
      "Episode 200\tScore: 14.89\tAverage Score 10, 100: 17.99 17.26\n",
      "Episode 210\tScore: 9.46\tAverage Score 10, 100: 12.22 17.63\n",
      "Episode 220\tScore: 6.59\tAverage Score 10, 100: 9.71 17.73\n",
      "Episode 230\tScore: 11.15\tAverage Score 10, 100: 9.14 17.68\n",
      "Episode 240\tScore: 7.96\tAverage Score 10, 100: 9.25 17.55\n",
      "Episode 250\tScore: 8.60\tAverage Score 10, 100: 8.59 16.95\n",
      "Episode 260\tScore: 7.72\tAverage Score 10, 100: 7.95 15.96\n",
      "Episode 270\tScore: 6.40\tAverage Score 10, 100: 7.88 14.40\n",
      "Episode 280\tScore: 6.90\tAverage Score 10, 100: 7.35 11.95\n",
      "Episode 290\tScore: 4.40\tAverage Score 10, 100: 6.25 9.63\n",
      "Episode 300\tScore: 4.68\tAverage Score 10, 100: 7.87 8.62\n",
      "Episode 310\tScore: 9.93\tAverage Score 10, 100: 9.21 8.32\n",
      "Episode 320\tScore: 12.45\tAverage Score 10, 100: 13.11 8.66\n",
      "Episode 330\tScore: 17.67\tAverage Score 10, 100: 18.25 9.57\n",
      "Episode 340\tScore: 25.79\tAverage Score 10, 100: 19.70 10.61\n",
      "Episode 350\tScore: 31.78\tAverage Score 10, 100: 25.46 12.30\n",
      "Episode 360\tScore: 25.73\tAverage Score 10, 100: 30.94 14.60\n",
      "Episode 370\tScore: 28.37\tAverage Score 10, 100: 32.54 17.07\n",
      "Episode 380\tScore: 44.20\tAverage Score 10, 100: 35.13 19.85\n",
      "Episode 390\tScore: 28.21\tAverage Score 10, 100: 34.30 22.65\n",
      "Episode 400\tScore: 32.52\tAverage Score 10, 100: 29.28 24.79\n",
      "Episode 410\tScore: 23.65\tAverage Score 10, 100: 25.10 26.38\n",
      "Episode 420\tScore: 23.91\tAverage Score 10, 100: 25.80 27.65\n",
      "Episode 430\tScore: 16.44\tAverage Score 10, 100: 19.74 27.80\n",
      "Episode 440\tScore: 14.54\tAverage Score 10, 100: 12.47 27.08\n",
      "Episode 450\tScore: 10.38\tAverage Score 10, 100: 11.73 25.70\n",
      "Episode 460\tScore: 13.00\tAverage Score 10, 100: 10.63 23.67\n",
      "Episode 470\tScore: 8.15\tAverage Score 10, 100: 8.92 21.31\n",
      "Episode 480\tScore: 7.88\tAverage Score 10, 100: 8.00 18.60\n",
      "Episode 490\tScore: 7.86\tAverage Score 10, 100: 8.24 15.99\n",
      "Episode 500\tScore: 9.71\tAverage Score 10, 100: 10.06 14.07\n"
     ]
    },
    {
     "data": {
      "image/png": "[encoded data removed]",
      "text/plain": [
       "<Figure size 432x288 with 1 Axes>"
      ]
     },
     "metadata": {
      "needs_background": "light"
     },
     "output_type": "display_data"
    }
   ],
   "source": [
    "BUFFER_SIZE = int(1e5)  # replay buffer size\n",
    "BATCH_SIZE = 1024       # minibatch size\n",
    "GAMMA = 0.999           # discount factor\n",
    "TAU = 1e-4              # for soft update of target parameters\n",
    "LR_ACTOR = 1e-4         # learning rate of the actor \n",
    "LR_CRITIC = 1e-4        # learning rate of the critic\n",
    "WEIGHT_DECAY = 0        # L2 weight decay\n",
    "\n",
    "agent = Agent(state_size=state_size, action_size=action_size, device=device, random_seed=2, \n",
    "              update_rate=45, learn_sessions = 10,\n",
    "              ac1=256, ac2=128, cc1=256, cc2=128, dropout_a=0.1, dropout_c=0.05)\n",
    "scores = ddpg(500, 2500, early_break = False)\n",
    "\n",
    "# plot the scores\n",
    "fig = plt.figure()\n",
    "ax = fig.add_subplot(111)\n",
    "plt.plot(np.arange(len(scores)), scores)\n",
    "plt.ylabel('Score')\n",
    "plt.xlabel('Episode #')\n",
    "plt.show()"
   ]
  },
  {
   "cell_type": "code",
   "execution_count": null,
   "metadata": {},
   "outputs": [],
   "source": []
  },
  {
   "cell_type": "code",
   "execution_count": null,
   "metadata": {},
   "outputs": [],
   "source": []
  },
  {
   "cell_type": "code",
   "execution_count": null,
   "metadata": {},
   "outputs": [],
   "source": []
  },
  {
   "cell_type": "code",
   "execution_count": null,
   "metadata": {},
   "outputs": [],
   "source": []
  }
 ],
 "metadata": {
  "kernelspec": {
   "display_name": "Python 3",
   "language": "python",
   "name": "python3"
  },
  "language_info": {
   "codemirror_mode": {
    "name": "ipython",
    "version": 3
   },
   "file_extension": ".py",
   "mimetype": "text/x-python",
   "name": "python",
   "nbconvert_exporter": "python",
   "pygments_lexer": "ipython3",
   "version": "3.6.7"
  }
 },
 "nbformat": 4,
 "nbformat_minor": 2
}
