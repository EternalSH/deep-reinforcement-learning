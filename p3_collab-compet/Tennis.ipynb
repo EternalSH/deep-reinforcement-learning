{
 "cells": [
  {
   "cell_type": "markdown",
   "metadata": {},
   "source": [
    "# Collaboration and Competition\n",
    "\n",
    "---\n",
    "\n",
    "In this notebook, you will learn how to use the Unity ML-Agents environment for the third project of the [Deep Reinforcement Learning Nanodegree](https://www.udacity.com/course/deep-reinforcement-learning-nanodegree--nd893) program.\n",
    "\n",
    "### 1. Start the Environment\n",
    "\n",
    "We begin by importing the necessary packages.  If the code cell below returns an error, please revisit the project instructions to double-check that you have installed [Unity ML-Agents](https://github.com/Unity-Technologies/ml-agents/blob/master/docs/Installation.md) and [NumPy](http://www.numpy.org/)."
   ]
  },
  {
   "cell_type": "code",
   "execution_count": 1,
   "metadata": {},
   "outputs": [],
   "source": [
    "from unityagents import UnityEnvironment\n",
    "import numpy as np"
   ]
  },
  {
   "cell_type": "markdown",
   "metadata": {},
   "source": [
    "Next, we will start the environment!  **_Before running the code cell below_**, change the `file_name` parameter to match the location of the Unity environment that you downloaded.\n",
    "\n",
    "- **Mac**: `\"path/to/Tennis.app\"`\n",
    "- **Windows** (x86): `\"path/to/Tennis_Windows_x86/Tennis.exe\"`\n",
    "- **Windows** (x86_64): `\"path/to/Tennis_Windows_x86_64/Tennis.exe\"`\n",
    "- **Linux** (x86): `\"path/to/Tennis_Linux/Tennis.x86\"`\n",
    "- **Linux** (x86_64): `\"path/to/Tennis_Linux/Tennis.x86_64\"`\n",
    "- **Linux** (x86, headless): `\"path/to/Tennis_Linux_NoVis/Tennis.x86\"`\n",
    "- **Linux** (x86_64, headless): `\"path/to/Tennis_Linux_NoVis/Tennis.x86_64\"`\n",
    "\n",
    "For instance, if you are using a Mac, then you downloaded `Tennis.app`.  If this file is in the same folder as the notebook, then the line below should appear as follows:\n",
    "```\n",
    "env = UnityEnvironment(file_name=\"Tennis.app\")\n",
    "```"
   ]
  },
  {
   "cell_type": "code",
   "execution_count": 2,
   "metadata": {},
   "outputs": [
    {
     "name": "stderr",
     "output_type": "stream",
     "text": [
      "INFO:unityagents:\n",
      "'Academy' started successfully!\n",
      "Unity Academy name: Academy\n",
      "        Number of Brains: 1\n",
      "        Number of External Brains : 1\n",
      "        Lesson number : 0\n",
      "        Reset Parameters :\n",
      "\t\t\n",
      "Unity brain name: TennisBrain\n",
      "        Number of Visual Observations (per agent): 0\n",
      "        Vector Observation space type: continuous\n",
      "        Vector Observation space size (per agent): 8\n",
      "        Number of stacked Vector Observation: 3\n",
      "        Vector Action space type: continuous\n",
      "        Vector Action space size (per agent): 2\n",
      "        Vector Action descriptions: , \n"
     ]
    }
   ],
   "source": [
    "env = UnityEnvironment(file_name=\"Tennis_Windows_x86_64/Tennis.exe\")"
   ]
  },
  {
   "cell_type": "markdown",
   "metadata": {},
   "source": [
    "Environments contain **_brains_** which are responsible for deciding the actions of their associated agents. Here we check for the first brain available, and set it as the default brain we will be controlling from Python."
   ]
  },
  {
   "cell_type": "code",
   "execution_count": 3,
   "metadata": {},
   "outputs": [],
   "source": [
    "# get the default brain\n",
    "brain_name = env.brain_names[0]\n",
    "brain = env.brains[brain_name]"
   ]
  },
  {
   "cell_type": "markdown",
   "metadata": {},
   "source": [
    "### 2. Examine the State and Action Spaces\n",
    "\n",
    "In this environment, two agents control rackets to bounce a ball over a net. If an agent hits the ball over the net, it receives a reward of +0.1.  If an agent lets a ball hit the ground or hits the ball out of bounds, it receives a reward of -0.01.  Thus, the goal of each agent is to keep the ball in play.\n",
    "\n",
    "The observation space consists of 8 variables corresponding to the position and velocity of the ball and racket. Two continuous actions are available, corresponding to movement toward (or away from) the net, and jumping. \n",
    "\n",
    "Run the code cell below to print some information about the environment."
   ]
  },
  {
   "cell_type": "code",
   "execution_count": 4,
   "metadata": {},
   "outputs": [
    {
     "name": "stdout",
     "output_type": "stream",
     "text": [
      "Number of agents: 2\n",
      "Size of each action: 2\n",
      "There are 2 agents. Each observes a state with length: 24\n",
      "The state for the first agent looks like: [ 0.          0.          0.          0.          0.          0.\n",
      "  0.          0.          0.          0.          0.          0.\n",
      "  0.          0.          0.          0.         -6.65278625 -1.5\n",
      " -0.          0.          6.83172083  6.         -0.          0.        ]\n"
     ]
    }
   ],
   "source": [
    "# reset the environment\n",
    "env_info = env.reset(train_mode=True)[brain_name]\n",
    "\n",
    "# number of agents \n",
    "num_agents = len(env_info.agents)\n",
    "print('Number of agents:', num_agents)\n",
    "\n",
    "# size of each action\n",
    "action_size = brain.vector_action_space_size\n",
    "print('Size of each action:', action_size)\n",
    "\n",
    "# examine the state space \n",
    "states = env_info.vector_observations\n",
    "state_size = states.shape[1]\n",
    "print('There are {} agents. Each observes a state with length: {}'.format(states.shape[0], state_size))\n",
    "print('The state for the first agent looks like:', states[0])"
   ]
  },
  {
   "cell_type": "markdown",
   "metadata": {},
   "source": [
    "### 3. Take Random Actions in the Environment\n",
    "\n",
    "In the next code cell, you will learn how to use the Python API to control the agents and receive feedback from the environment.\n",
    "\n",
    "Once this cell is executed, you will watch the agents' performance, if they select actions at random with each time step.  A window should pop up that allows you to observe the agents.\n",
    "\n",
    "Of course, as part of the project, you'll have to change the code so that the agents are able to use their experiences to gradually choose better actions when interacting with the environment!"
   ]
  },
  {
   "cell_type": "markdown",
   "metadata": {},
   "source": [
    "When finished, you can close the environment."
   ]
  },
  {
   "cell_type": "code",
   "execution_count": 5,
   "metadata": {},
   "outputs": [],
   "source": [
    "import numpy as np\n",
    "import random\n",
    "import copy\n",
    "from collections import namedtuple, deque\n",
    "\n",
    "import torch\n",
    "import torch.nn as nn\n",
    "import torch.nn.functional as F\n",
    "import torch.optim as optim\n",
    "\n",
    "import datetime\n",
    "\n",
    "import matplotlib.pyplot as plt\n",
    "%matplotlib inline"
   ]
  },
  {
   "cell_type": "code",
   "execution_count": 33,
   "metadata": {},
   "outputs": [],
   "source": [
    "def hidden_init(layer):\n",
    "    fan_in = layer.weight.data.size()[0]\n",
    "    lim = 1. / np.sqrt(fan_in)\n",
    "    return (-lim, lim)\n",
    "\n",
    "class Actor(nn.Module):\n",
    "    \"\"\"Actor (Policy) Model.\"\"\"\n",
    "\n",
    "    def __init__(self, state_size, action_size, seed, fc1_units=400, fc2_units=300):\n",
    "        \"\"\"Initialize parameters and build model.\n",
    "        Params\n",
    "        ======\n",
    "            state_size (int): Dimension of each state\n",
    "            action_size (int): Dimension of each action\n",
    "            seed (int): Random seed\n",
    "            fc1_units (int): Number of nodes in first hidden layer\n",
    "            fc2_units (int): Number of nodes in second hidden layer\n",
    "        \"\"\"\n",
    "        super(Actor, self).__init__()\n",
    "        \n",
    "        if ACTOR_NORMALIZE_STATES:\n",
    "            self.normalizer_states = nn.BatchNorm1d(state_size)\n",
    "        \n",
    "        if ACTOR_NORMALIZE:\n",
    "            self.normalizer = nn.BatchNorm1d(fc1_units)\n",
    "            \n",
    "        if ACTOR_DROPOUT:\n",
    "            self.dropout = nn.Dropout(p = ACTOR_DROPOUT_RATE)\n",
    "            \n",
    "        self.seed = torch.manual_seed(seed)\n",
    "        \n",
    "        self.fc1 = nn.Linear(state_size, fc1_units)\n",
    "        self.fc2 = nn.Linear(fc1_units, fc2_units)\n",
    "        self.out = nn.Linear(fc2_units, action_size)\n",
    "        \n",
    "        self.reset_parameters()\n",
    "\n",
    "    def reset_parameters(self):\n",
    "        self.fc1.weight.data.uniform_(*hidden_init(self.fc1))\n",
    "        self.fc2.weight.data.uniform_(*hidden_init(self.fc2))\n",
    "        self.out.weight.data.uniform_(-3e-3, 3e-3)\n",
    "\n",
    "    def forward(self, states):\n",
    "        \"\"\"Build an actor (policy) network that maps states -> actions.\"\"\"\n",
    "        x = states      \n",
    "        \n",
    "        if ACTOR_NORMALIZE_STATES:\n",
    "            x = self.normalizer_states(x)\n",
    "        \n",
    "        x = self.fc1(x)\n",
    "        \n",
    "        if ACTOR_NORMALIZE:\n",
    "            x = self.normalizer(x)\n",
    "        \n",
    "        x = F.relu(x)\n",
    "        x = F.relu(self.fc2(x))\n",
    "        \n",
    "        if ACTOR_DROPOUT:\n",
    "            x = self.dropout(x)\n",
    "        \n",
    "        return torch.tanh(self.out(x))\n",
    "\n",
    "class Critic(nn.Module):\n",
    "    \"\"\"Critic (Value) Model.\"\"\"\n",
    "\n",
    "    def __init__(self, state_size, action_size, seed, fcs1_units=400, fc2_units=300):\n",
    "        \"\"\"Initialize parameters and build model.\n",
    "        Params\n",
    "        ======\n",
    "            state_size (int): Dimension of each state\n",
    "            action_size (int): Dimension of each action\n",
    "            seed (int): Random seed\n",
    "            fcs1_units (int): Number of nodes in the first hidden layer\n",
    "            fc2_units (int): Number of nodes in the second hidden layer\n",
    "        \"\"\"\n",
    "        super(Critic, self).__init__()\n",
    "        \n",
    "        if CRITIC_NORMALIZE_STATES:\n",
    "            self.normalizer_states = nn.BatchNorm1d(state_size)\n",
    "        \n",
    "        if CRITIC_NORMALIZE:\n",
    "            self.normalizer = nn.BatchNorm1d(fcs1_units)\n",
    "            \n",
    "        if CRITIC_DROPOUT:\n",
    "            self.dropout = nn.Dropout(p = CRITIC_DROPOUT_RATE)\n",
    "            \n",
    "        self.seed = torch.manual_seed(seed)\n",
    "        \n",
    "        self.fcs1 = nn.Linear(state_size, fcs1_units)\n",
    "        self.fc2 = nn.Linear(fcs1_units+action_size, fc2_units)\n",
    "        self.fc3 = nn.Linear(fc2_units, 1)\n",
    "        \n",
    "        self.reset_parameters()\n",
    "\n",
    "    def reset_parameters(self):\n",
    "        self.fcs1.weight.data.uniform_(*hidden_init(self.fcs1))\n",
    "        self.fc2.weight.data.uniform_(*hidden_init(self.fc2))\n",
    "        self.fc3.weight.data.uniform_(-3e-3, 3e-3)\n",
    "\n",
    "    def forward(self, states, actions):\n",
    "        \"\"\"Build a critic (value) network that maps (state, action) pairs -> Q-values.\"\"\"\n",
    "        xs = states\n",
    "        \n",
    "        if CRITIC_NORMALIZE_STATES:\n",
    "            xs = self.normalizer_states(xs)\n",
    "        \n",
    "        xs = self.fcs1(xs)\n",
    "        \n",
    "        if CRITIC_NORMALIZE:\n",
    "            xs = self.normalizer(xs)\n",
    "            \n",
    "        xs = F.relu(xs)            \n",
    "        x = torch.cat((xs, actions), dim=1)\n",
    "        x = F.relu(self.fc2(x))\n",
    "        \n",
    "        if CRITIC_DROPOUT:\n",
    "            x = self.dropout(x)\n",
    "        \n",
    "        return self.fc3(x)\n",
    "\n",
    "class OUNoise:\n",
    "    \"\"\"Ornstein-Uhlenbeck process.\"\"\"\n",
    "\n",
    "    def __init__(self, size, seed, mu=0., theta=0.15, sigma=0.2):\n",
    "        \"\"\"Initialize parameters and noise process.\"\"\"\n",
    "        self.mu = mu * np.ones(size)\n",
    "        self.theta = theta\n",
    "        self.sigma = sigma\n",
    "        self.seed = random.seed(seed)\n",
    "        self.reset()\n",
    "\n",
    "    def reset(self):\n",
    "        \"\"\"Reset the internal state (= noise) to mean (mu).\"\"\"\n",
    "        self.state = copy.copy(self.mu)\n",
    "\n",
    "    def sample(self):\n",
    "        \"\"\"Update internal state and return it as a noise sample.\"\"\"\n",
    "        x = self.state\n",
    "        dx = self.theta * (self.mu - x) + self.sigma * np.array([random.random() for i in range(len(x))])\n",
    "        self.state = x + dx\n",
    "        return self.state\n",
    "\n",
    "class ReplayBuffer:\n",
    "    \"\"\"Fixed-size buffer to store experience tuples.\"\"\"\n",
    "\n",
    "    def __init__(self, action_size, buffer_size, batch_size, seed):\n",
    "        \"\"\"Initialize a ReplayBuffer object.\n",
    "        Params\n",
    "        ======\n",
    "            buffer_size (int): maximum size of buffer\n",
    "            batch_size (int): size of each training batch\n",
    "        \"\"\"\n",
    "        self.action_size = action_size\n",
    "        self.memory = deque(maxlen=buffer_size)  # internal memory (deque)\n",
    "        self.batch_size = batch_size\n",
    "        self.experience = namedtuple(\"Experience\", field_names=[\"state\", \"action\", \"reward\", \"next_state\", \"done\"])\n",
    "        self.seed = random.seed(seed)\n",
    "    \n",
    "    def add(self, state, action, reward, next_state, done):\n",
    "        \"\"\"Add a new experience to memory.\"\"\"\n",
    "        e = self.experience(state, action, reward, next_state, done)\n",
    "        self.memory.append(e)\n",
    "    \n",
    "    def sample(self):\n",
    "        \"\"\"Randomly sample a batch of experiences from memory.\"\"\"\n",
    "        experiences = random.sample(self.memory, k=self.batch_size)\n",
    "\n",
    "        states = torch.from_numpy(np.vstack([e.state for e in experiences if e is not None])).float().to(device)\n",
    "        actions = torch.from_numpy(np.vstack([e.action for e in experiences if e is not None])).float().to(device)\n",
    "        rewards = torch.from_numpy(np.vstack([e.reward for e in experiences if e is not None])).float().to(device)\n",
    "        next_states = torch.from_numpy(np.vstack([e.next_state for e in experiences if e is not None])).float().to(device)\n",
    "        dones = torch.from_numpy(np.vstack([e.done for e in experiences if e is not None]).astype(np.uint8)).float().to(device)\n",
    "\n",
    "        return (states, actions, rewards, next_states, dones)\n",
    "\n",
    "    def __len__(self):\n",
    "        \"\"\"Return the current size of internal memory.\"\"\"\n",
    "        return len(self.memory)"
   ]
  },
  {
   "cell_type": "code",
   "execution_count": 28,
   "metadata": {},
   "outputs": [],
   "source": [
    "class Agent():\n",
    "    \"\"\"Interacts with and learns from the environment.\"\"\"\n",
    "    \n",
    "    def __init__(self, device, state_size, action_size, random_seed, memory,\n",
    "                 ac1 = 400, ac2 = 300, cc1 = 400, cc2 = 300):\n",
    "        \"\"\"Initialize an Agent object.\n",
    "        \n",
    "        Params\n",
    "        ======\n",
    "            state_size (int): dimension of each state\n",
    "            action_size (int): dimension of each action\n",
    "            random_seed (int): random seed\n",
    "        \"\"\"\n",
    "        self.state_size = state_size\n",
    "        self.action_size = action_size\n",
    "        self.seed = random.seed(random_seed)\n",
    "        self.noise_epsilon = NOISE_EPSILON\n",
    "        \n",
    "        # Actor Network (w/ Target Network)\n",
    "        self.actor_local = Actor(state_size, action_size, random_seed, fc1_units = ac1, fc2_units = ac2).to(device)\n",
    "        self.actor_target = Actor(state_size, action_size, random_seed, fc1_units = ac1, fc2_units = ac2).to(device)\n",
    "        self.actor_optimizer = optim.Adam(self.actor_local.parameters(), lr=LR_ACTOR)\n",
    "\n",
    "        # Critic Network (w/ Target Network)\n",
    "        self.critic_local = Critic(state_size, action_size, random_seed, fcs1_units = cc1, fc2_units = cc2).to(device)\n",
    "        self.critic_target = Critic(state_size, action_size, random_seed, fcs1_units = cc1, fc2_units = cc2).to(device)\n",
    "        self.critic_optimizer = optim.Adam(self.critic_local.parameters(), lr=LR_CRITIC, weight_decay=WEIGHT_DECAY)\n",
    "\n",
    "        # Noise process\n",
    "        self.noise = OUNoise(action_size, random_seed)\n",
    "\n",
    "        # Replay memory\n",
    "        self.memory = memory\n",
    "    \n",
    "    def step(self, t):\n",
    "        \"\"\"Save experience in replay memory, and use random sample from buffer to learn.\"\"\"\n",
    "\n",
    "        if t % DDPG_UPDATE_EVERY == 0 and len(self.memory) > BATCH_SIZE:\n",
    "            for _ in range(DDPG_LEARN_TIMES):\n",
    "                experiences = self.memory.sample()\n",
    "                self.learn(experiences, GAMMA)            \n",
    "        \n",
    "    def act(self, states, add_noise=True):\n",
    "        \"\"\"Returns actions for given state as per current policy.\"\"\"\n",
    "        states = torch.from_numpy(states).float().to(device)\n",
    "        self.actor_local.eval()\n",
    "        \n",
    "        with torch.no_grad():\n",
    "            actions = self.actor_local(states).cpu().data.numpy()\n",
    "            \n",
    "        self.actor_local.train()\n",
    "        \n",
    "        if add_noise:\n",
    "            actions += self.noise_epsilon * self.noise.sample()\n",
    "            \n",
    "        return np.clip(actions, -1, 1)\n",
    "\n",
    "    def reset(self):\n",
    "        self.noise.reset()\n",
    "\n",
    "    def learn(self, experiences, gamma):\n",
    "        \"\"\"Update policy and value parameters using given batch of experience tuples.\n",
    "        Q_targets = r + γ * critic_target(next_state, actor_target(next_state))\n",
    "        where:\n",
    "            actor_target(state) -> action\n",
    "            critic_target(state, action) -> Q-value\n",
    "\n",
    "        Params\n",
    "        ======\n",
    "            experiences (Tuple[torch.Tensor]): tuple of (s, a, r, s', done) tuples \n",
    "            gamma (float): discount factor\n",
    "        \"\"\"\n",
    "        states, actions, rewards, next_states, dones = experiences\n",
    "\n",
    "        # ---------------------------- update critic ---------------------------- #\n",
    "        # Get predicted next-state actions and Q values from target models\n",
    "        actions_next = self.actor_target(next_states)\n",
    "        Q_targets_next = self.critic_target(next_states, actions_next)\n",
    "        # Compute Q targets for current states (y_i)\n",
    "        Q_targets = rewards + (gamma * Q_targets_next * (1 - dones))\n",
    "        # Compute critic loss\n",
    "        Q_expected = self.critic_local(states, actions)\n",
    "        critic_loss = F.mse_loss(Q_expected, Q_targets)\n",
    "        # Minimize the loss\n",
    "        self.critic_optimizer.zero_grad()\n",
    "        critic_loss.backward()\n",
    "        self.critic_optimizer.step()\n",
    "\n",
    "        # ---------------------------- update actor ---------------------------- #\n",
    "        # Compute actor loss\n",
    "        actions_pred = self.actor_local(states)\n",
    "        actor_loss = -self.critic_local(states, actions_pred).mean()\n",
    "        # Minimize the loss\n",
    "        self.actor_optimizer.zero_grad()\n",
    "        actor_loss.backward()\n",
    "        self.actor_optimizer.step()\n",
    "\n",
    "        # ----------------------- update target networks ----------------------- #\n",
    "        self.soft_update(self.critic_local, self.critic_target, TAU)\n",
    "        self.soft_update(self.actor_local, self.actor_target, TAU)   \n",
    "        \n",
    "        # ---------------------------- update noise ---------------------------- #\n",
    "        self.noise_epsilon = max(NOISE_EPSILPN_MIN, self.noise_epsilon - NOISE_EPSILON_DECAY)\n",
    "        self.noise.reset()\n",
    "\n",
    "    def soft_update(self, local_model, target_model, tau):\n",
    "        \"\"\"Soft update model parameters.\n",
    "        θ_target = τ*θ_local + (1 - τ)*θ_target\n",
    "\n",
    "        Params\n",
    "        ======\n",
    "            local_model: PyTorch model (weights will be copied from)\n",
    "            target_model: PyTorch model (weights will be copied to)\n",
    "            tau (float): interpolation parameter \n",
    "        \"\"\"\n",
    "        for target_param, local_param in zip(target_model.parameters(), local_model.parameters()):\n",
    "            target_param.data.copy_(tau*local_param.data + (1.0-tau)*target_param.data)"
   ]
  },
  {
   "cell_type": "code",
   "execution_count": 29,
   "metadata": {},
   "outputs": [],
   "source": [
    "def maddpg(n_episodes, max_t, memory, window_size=100, print_every=10, early_break=False):\n",
    "    scores_deque = deque(maxlen=window_size)\n",
    "    scores_short = deque(maxlen=10)\n",
    "    all_scores = []\n",
    "    start_time = datetime.datetime.now().strftime(\"%H:%M:%S\")\n",
    "    print('{} Starts training'.format(start_time))\n",
    "    \n",
    "    for i_episode in range(1, n_episodes+1):\n",
    "        \n",
    "        for agent in agents:\n",
    "            agent.reset()\n",
    "            \n",
    "        env_info = env.reset(train_mode=True)[brain_name]\n",
    "        all_states = env_info.vector_observations\n",
    "        scores = np.zeros(2)\n",
    "        \n",
    "        for t in range(max_t):\n",
    "            actions = [agent.act(np.expand_dims(states, axis=0)) for agent, states in zip(agents, all_states)]           \n",
    "\n",
    "            env_info = env.step(actions)[brain_name]\n",
    "            next_states = env_info.vector_observations\n",
    "            rewards = env_info.rewards\n",
    "            dones = env_info.local_done\n",
    "            \n",
    "            # Update Replay Buffer\n",
    "            for state, action, reward, next_state, done in zip(states, actions, rewards, next_states, dones):\n",
    "                memory.add(state, action, reward, next_state, done)\n",
    "            \n",
    "            # Perform agent step\n",
    "            for agent in agents:            \n",
    "                agent.step(t)\n",
    "\n",
    "            all_states = next_states\n",
    "            scores += rewards\n",
    "            \n",
    "            if early_break and np.any(dones):\n",
    "                break\n",
    "\n",
    "        max_score = np.max(scores)\n",
    "        scores_deque.append(max_score)\n",
    "        scores_short.append(max_score)\n",
    "        all_scores.append(max_score)            \n",
    "             \n",
    "        current_time = datetime.datetime.now().strftime(\"%H:%M:%S\")\n",
    "        debug_string = '{} Episode {}\\t Episode score: {:.3f}\\tScore (last 10): {:.3f}\\tAverage rolling for last 100: {:.3f}'.format(current_time, i_episode, max_score, np.mean(scores_short), np.mean(scores_deque))\n",
    "            \n",
    "        if i_episode % print_every == 0 or max_score > 0.001:               \n",
    "            print(debug_string)\n",
    "            torch.save(agent.actor_local.state_dict(), 'checkpoint_actor.pth')\n",
    "            torch.save(agent.critic_local.state_dict(), 'checkpoint_critic.pth')\n",
    "           \n",
    "        if np.mean(scores_deque)>=0.5:\n",
    "            print('\\nEnvironment solved in {:d} episodes!\\tAverage Score: {:.3f}'.format(i_episode-100, np.mean(scores_deque)))\n",
    "            torch.save(agent.actor_local.state_dict(), 'checkpoint_actor.pth')\n",
    "            torch.save(agent.critic_local.state_dict(), 'checkpoint_critic.pth')\n",
    "            break\n",
    "            \n",
    "    return all_scores"
   ]
  },
  {
   "cell_type": "code",
   "execution_count": 9,
   "metadata": {},
   "outputs": [
    {
     "name": "stdout",
     "output_type": "stream",
     "text": [
      "Using device: cuda:0\n"
     ]
    }
   ],
   "source": [
    "BUFFER_SIZE = int(1e6)        # replay buffer size\n",
    "BATCH_SIZE = 512              # minibatch size\n",
    "GAMMA = 0.99                  # discount factor\n",
    "TAU = 1e-3                    # for soft update of target parameters\n",
    "LR_ACTOR = 1e-3               # learning rate of the actor \n",
    "LR_CRITIC = 3e-3              # learning rate of the critic\n",
    "WEIGHT_DECAY = 0              # L2 weight decay\n",
    "\n",
    "DDPG_LEARN_TIMES = 4\n",
    "DDPG_UPDATE_EVERY = 1\n",
    "\n",
    "NOISE_EPSILON = 5.0           # explore/exploit from the noise generator\n",
    "NOISE_EPSILON_DECAY = 1e-3    # decay rate for noise process\n",
    "\n",
    "ACTOR_DROPOUT = False         # Actor: use dropout (on last layer)\n",
    "ACTOR_DROPOUT_RATE = 0.1      # Actor: dropout rate\n",
    "ACTOR_NORMALIZE = True\n",
    "\n",
    "CRITIC_DROPOUT = False        # Critic: use dropout (on last layer)\n",
    "CRITIC_DROPOUT_RATE = 0.05    # Critic: dropout rate\n",
    "CRITIC_NORMALIZE = True\n",
    "\n",
    "device = torch.device(\"cuda:0\" if torch.cuda.is_available() else \"cpu\")\n",
    "print(f\"Using device: {device}\")\n",
    "\n",
    "shared_memory = ReplayBuffer(action_size, BUFFER_SIZE, BATCH_SIZE, 2)\n",
    "agents = [Agent(state_size=state_size, action_size=action_size, device=device, random_seed=2, memory = shared_memory,\n",
    "              ac1=512, ac2=256, cc1=512, cc2=256) for _ in range(2)]"
   ]
  },
  {
   "cell_type": "code",
   "execution_count": 11,
   "metadata": {},
   "outputs": [
    {
     "name": "stdout",
     "output_type": "stream",
     "text": [
      "22:53:00 Starts training\n",
      "22:54:47 Episode 1\t Episode score: -0.150\tScore (last 10): -0.150\tAverage rolling for last 100: -0.150\n",
      "22:56:34 Episode 2\t Episode score: -0.150\tScore (last 10): -0.150\tAverage rolling for last 100: -0.150\n",
      "22:58:21 Episode 3\t Episode score: -0.160\tScore (last 10): -0.153\tAverage rolling for last 100: -0.153\n",
      "23:00:08 Episode 4\t Episode score: -0.120\tScore (last 10): -0.145\tAverage rolling for last 100: -0.145\n",
      "23:01:54 Episode 5\t Episode score: -0.150\tScore (last 10): -0.146\tAverage rolling for last 100: -0.146\n",
      "23:03:41 Episode 6\t Episode score: -0.170\tScore (last 10): -0.150\tAverage rolling for last 100: -0.150\n",
      "23:05:29 Episode 7\t Episode score: -0.110\tScore (last 10): -0.144\tAverage rolling for last 100: -0.144\n",
      "23:07:18 Episode 8\t Episode score: -0.070\tScore (last 10): -0.135\tAverage rolling for last 100: -0.135\n",
      "23:09:06 Episode 9\t Episode score: -0.170\tScore (last 10): -0.139\tAverage rolling for last 100: -0.139\n",
      "23:10:53 Episode 10\t Episode score: -0.130\tScore (last 10): -0.138\tAverage rolling for last 100: -0.138\n",
      "23:12:41 Episode 11\t Episode score: -0.100\tScore (last 10): -0.133\tAverage rolling for last 100: -0.135\n",
      "23:14:32 Episode 12\t Episode score: -0.150\tScore (last 10): -0.133\tAverage rolling for last 100: -0.136\n",
      "23:16:20 Episode 13\t Episode score: -0.130\tScore (last 10): -0.130\tAverage rolling for last 100: -0.135\n",
      "23:18:08 Episode 14\t Episode score: -0.140\tScore (last 10): -0.132\tAverage rolling for last 100: -0.136\n",
      "23:19:57 Episode 15\t Episode score: -0.140\tScore (last 10): -0.131\tAverage rolling for last 100: -0.136\n",
      "23:21:44 Episode 16\t Episode score: -0.120\tScore (last 10): -0.126\tAverage rolling for last 100: -0.135\n",
      "23:23:34 Episode 17\t Episode score: -0.150\tScore (last 10): -0.130\tAverage rolling for last 100: -0.136\n",
      "23:25:23 Episode 18\t Episode score: -0.160\tScore (last 10): -0.139\tAverage rolling for last 100: -0.137\n",
      "23:27:11 Episode 19\t Episode score: -0.110\tScore (last 10): -0.133\tAverage rolling for last 100: -0.136\n",
      "23:29:01 Episode 20\t Episode score: -0.150\tScore (last 10): -0.135\tAverage rolling for last 100: -0.136\n"
     ]
    },
    {
     "data": {
      "image/png": "[encoded data removed]",
      "text/plain": [
       "<Figure size 432x288 with 1 Axes>"
      ]
     },
     "metadata": {
      "needs_background": "light"
     },
     "output_type": "display_data"
    }
   ],
   "source": [
    "scores = maddpg(20, 500, early_break = False, memory = shared_memory, print_every = 1)\n",
    "\n",
    "# plot the scores\n",
    "fig = plt.figure()\n",
    "ax = fig.add_subplot(111)\n",
    "plt.plot(np.arange(len(scores)), scores)\n",
    "plt.ylabel('Score')\n",
    "plt.xlabel('Episode #')\n",
    "plt.show()"
   ]
  },
  {
   "cell_type": "code",
   "execution_count": 12,
   "metadata": {},
   "outputs": [
    {
     "name": "stdout",
     "output_type": "stream",
     "text": [
      "20:19:02 Starts training\n",
      "20:26:22 Episode 4\t Episode score: -0.090\tScore (last 10): -0.127\tAverage rolling for last 100: -0.127\n",
      "20:33:42 Episode 8\t Episode score: -0.150\tScore (last 10): -0.144\tAverage rolling for last 100: -0.144\n",
      "20:40:59 Episode 12\t Episode score: -0.170\tScore (last 10): -0.148\tAverage rolling for last 100: -0.146\n",
      "20:48:19 Episode 16\t Episode score: -0.140\tScore (last 10): -0.154\tAverage rolling for last 100: -0.148\n",
      "20:55:41 Episode 20\t Episode score: -0.150\tScore (last 10): -0.151\tAverage rolling for last 100: -0.146\n"
     ]
    },
    {
     "data": {
      "image/png": "[encoded data removed]",
      "text/plain": [
       "<Figure size 432x288 with 1 Axes>"
      ]
     },
     "metadata": {
      "needs_background": "light"
     },
     "output_type": "display_data"
    }
   ],
   "source": [
    "scores = maddpg(20, 500, early_break = False, memory = shared_memory, print_every = 4)\n",
    "\n",
    "# plot the scores\n",
    "fig = plt.figure()\n",
    "ax = fig.add_subplot(111)\n",
    "plt.plot(np.arange(len(scores)), scores)\n",
    "plt.ylabel('Score')\n",
    "plt.xlabel('Episode #')\n",
    "plt.show()"
   ]
  },
  {
   "cell_type": "code",
   "execution_count": 13,
   "metadata": {},
   "outputs": [
    {
     "name": "stdout",
     "output_type": "stream",
     "text": [
      "Using device: cuda:0\n",
      "20:59:42 Starts training\n",
      "21:06:05 Episode 4\t Episode score: -0.150\tScore (last 10): -0.127\tAverage rolling for last 100: -0.127\n",
      "21:13:23 Episode 8\t Episode score: -0.140\tScore (last 10): -0.131\tAverage rolling for last 100: -0.131\n",
      "21:20:40 Episode 12\t Episode score: -0.150\tScore (last 10): -0.145\tAverage rolling for last 100: -0.138\n",
      "21:27:57 Episode 16\t Episode score: -0.160\tScore (last 10): -0.148\tAverage rolling for last 100: -0.143\n",
      "21:35:15 Episode 20\t Episode score: -0.160\tScore (last 10): -0.159\tAverage rolling for last 100: -0.147\n"
     ]
    },
    {
     "data": {
      "image/png": "[encoded data removed]",
      "text/plain": [
       "<Figure size 432x288 with 1 Axes>"
      ]
     },
     "metadata": {
      "needs_background": "light"
     },
     "output_type": "display_data"
    }
   ],
   "source": [
    "BUFFER_SIZE = int(1e6)        # replay buffer size\n",
    "BATCH_SIZE = 512              # minibatch size\n",
    "GAMMA = 0.99                  # discount factor\n",
    "TAU = 1e-3                    # for soft update of target parameters\n",
    "LR_ACTOR = 1e-3               # learning rate of the actor \n",
    "LR_CRITIC = 3e-3              # learning rate of the critic\n",
    "WEIGHT_DECAY = 0              # L2 weight decay\n",
    "\n",
    "DDPG_LEARN_TIMES = 4\n",
    "DDPG_UPDATE_EVERY = 1\n",
    "\n",
    "NOISE_EPSILON = 5.0           # explore/exploit from the noise generator\n",
    "NOISE_EPSILON_DECAY = 1e-3    # decay rate for noise process\n",
    "\n",
    "ACTOR_DROPOUT = True          # Actor: use dropout (on last layer)\n",
    "ACTOR_DROPOUT_RATE = 0.1      # Actor: dropout rate\n",
    "ACTOR_NORMALIZE = True\n",
    "\n",
    "CRITIC_DROPOUT = True         # Critic: use dropout (on last layer)\n",
    "CRITIC_DROPOUT_RATE = 0.05    # Critic: dropout rate\n",
    "CRITIC_NORMALIZE = True\n",
    "\n",
    "device = torch.device(\"cuda:0\" if torch.cuda.is_available() else \"cpu\")\n",
    "print(f\"Using device: {device}\")\n",
    "\n",
    "shared_memory = ReplayBuffer(action_size, BUFFER_SIZE, BATCH_SIZE, 2)\n",
    "agents = [Agent(state_size=state_size, action_size=action_size, device=device, random_seed=2, memory = shared_memory,\n",
    "              ac1=512, ac2=256, cc1=512, cc2=256) for _ in range(2)]\n",
    "\n",
    "scores = maddpg(20, 500, early_break = False, memory = shared_memory, print_every = 4)\n",
    "\n",
    "# plot the scores\n",
    "fig = plt.figure()\n",
    "ax = fig.add_subplot(111)\n",
    "plt.plot(np.arange(len(scores)), scores)\n",
    "plt.ylabel('Score')\n",
    "plt.xlabel('Episode #')\n",
    "plt.show()"
   ]
  },
  {
   "cell_type": "markdown",
   "metadata": {},
   "source": [
    "### Max t = 2000"
   ]
  },
  {
   "cell_type": "code",
   "execution_count": 14,
   "metadata": {},
   "outputs": [
    {
     "name": "stdout",
     "output_type": "stream",
     "text": [
      "Using device: cuda:0\n",
      "21:35:15 Starts training\n",
      "21:37:00 Episode 3\t Episode score: 0.140\tScore (last 10): -0.173\tAverage rolling for last 100: -0.173\n",
      "21:37:36 Episode 4\t Episode score: -0.440\tScore (last 10): -0.240\tAverage rolling for last 100: -0.240\n",
      "21:40:01 Episode 8\t Episode score: -0.560\tScore (last 10): -0.419\tAverage rolling for last 100: -0.419\n",
      "21:42:26 Episode 12\t Episode score: -0.620\tScore (last 10): -0.533\tAverage rolling for last 100: -0.499\n",
      "21:44:53 Episode 16\t Episode score: -0.620\tScore (last 10): -0.629\tAverage rolling for last 100: -0.527\n",
      "21:47:19 Episode 20\t Episode score: -0.550\tScore (last 10): -0.623\tAverage rolling for last 100: -0.546\n"
     ]
    },
    {
     "data": {
      "image/png": "[encoded data removed]",
      "text/plain": [
       "<Figure size 432x288 with 1 Axes>"
      ]
     },
     "metadata": {
      "needs_background": "light"
     },
     "output_type": "display_data"
    }
   ],
   "source": [
    "BUFFER_SIZE = int(1e6)        # replay buffer size\n",
    "BATCH_SIZE = 512              # minibatch size\n",
    "GAMMA = 0.99                  # discount factor\n",
    "TAU = 1e-3                    # for soft update of target parameters\n",
    "LR_ACTOR = 1e-4               # learning rate of the actor \n",
    "LR_CRITIC = 3e-4              # learning rate of the critic\n",
    "WEIGHT_DECAY = 0              # L2 weight decay\n",
    "\n",
    "DDPG_LEARN_TIMES = 1\n",
    "DDPG_UPDATE_EVERY = 4\n",
    "\n",
    "NOISE_EPSILON = 5.0           # explore/exploit from the noise generator\n",
    "NOISE_EPSILON_DECAY = 1e-3    # decay rate for noise process\n",
    "\n",
    "ACTOR_DROPOUT = True          # Actor: use dropout (on last layer)\n",
    "ACTOR_DROPOUT_RATE = 0.1      # Actor: dropout rate\n",
    "ACTOR_NORMALIZE = True\n",
    "\n",
    "CRITIC_DROPOUT = True         # Critic: use dropout (on last layer)\n",
    "CRITIC_DROPOUT_RATE = 0.05    # Critic: dropout rate\n",
    "CRITIC_NORMALIZE = True\n",
    "\n",
    "device = torch.device(\"cuda:0\" if torch.cuda.is_available() else \"cpu\")\n",
    "print(f\"Using device: {device}\")\n",
    "\n",
    "shared_memory = ReplayBuffer(action_size, BUFFER_SIZE, BATCH_SIZE, 2)\n",
    "agents = [Agent(state_size=state_size, action_size=action_size, device=device, random_seed=2, memory = shared_memory,\n",
    "              ac1=512, ac2=256, cc1=512, cc2=256) for _ in range(2)]\n",
    "\n",
    "scores = maddpg(20, 2000, early_break = False, memory = shared_memory, print_every = 4)\n",
    "\n",
    "# plot the scores\n",
    "fig = plt.figure()\n",
    "ax = fig.add_subplot(111)\n",
    "plt.plot(np.arange(len(scores)), scores)\n",
    "plt.ylabel('Score')\n",
    "plt.xlabel('Episode #')\n",
    "plt.show()"
   ]
  },
  {
   "cell_type": "code",
   "execution_count": 17,
   "metadata": {},
   "outputs": [
    {
     "name": "stdout",
     "output_type": "stream",
     "text": [
      "Using device: cuda:0\n",
      "21:57:41 Starts training\n",
      "22:00:46 Episode 3\t Episode score: 0.300\tScore (last 10): -0.213\tAverage rolling for last 100: -0.213\n",
      "22:01:50 Episode 4\t Episode score: 1.040\tScore (last 10): 0.100\tAverage rolling for last 100: 0.100\n",
      "22:05:59 Episode 8\t Episode score: -0.620\tScore (last 10): -0.211\tAverage rolling for last 100: -0.211\n",
      "22:10:10 Episode 12\t Episode score: -0.660\tScore (last 10): -0.331\tAverage rolling for last 100: -0.354\n",
      "22:14:24 Episode 16\t Episode score: -0.640\tScore (last 10): -0.647\tAverage rolling for last 100: -0.429\n",
      "22:18:40 Episode 20\t Episode score: -0.640\tScore (last 10): -0.655\tAverage rolling for last 100: -0.476\n"
     ]
    },
    {
     "data": {
      "image/png": "[encoded data removed]",
      "text/plain": [
       "<Figure size 432x288 with 1 Axes>"
      ]
     },
     "metadata": {
      "needs_background": "light"
     },
     "output_type": "display_data"
    }
   ],
   "source": [
    "BUFFER_SIZE = int(1e6)        # replay buffer size\n",
    "BATCH_SIZE = 512              # minibatch size\n",
    "GAMMA = 0.99                  # discount factor\n",
    "TAU = 1e-3                    # for soft update of target parameters\n",
    "LR_ACTOR = 1e-4               # learning rate of the actor \n",
    "LR_CRITIC = 3e-4              # learning rate of the critic\n",
    "WEIGHT_DECAY = 0              # L2 weight decay\n",
    "\n",
    "DDPG_LEARN_TIMES = 2\n",
    "DDPG_UPDATE_EVERY = 4\n",
    "\n",
    "NOISE_EPSILPN_MIN = 1e-2\n",
    "NOISE_EPSILON = 8.0           # explore/exploit from the noise generator\n",
    "NOISE_EPSILON_DECAY = 1e-3    # decay rate for noise process\n",
    "\n",
    "ACTOR_DROPOUT = True          # Actor: use dropout (on last layer)\n",
    "ACTOR_DROPOUT_RATE = 0.1      # Actor: dropout rate\n",
    "ACTOR_NORMALIZE = True\n",
    "\n",
    "CRITIC_DROPOUT = True         # Critic: use dropout (on last layer)\n",
    "CRITIC_DROPOUT_RATE = 0.05    # Critic: dropout rate\n",
    "CRITIC_NORMALIZE = True\n",
    "\n",
    "device = torch.device(\"cuda:0\" if torch.cuda.is_available() else \"cpu\")\n",
    "print(f\"Using device: {device}\")\n",
    "\n",
    "shared_memory = ReplayBuffer(action_size, BUFFER_SIZE, BATCH_SIZE, 2)\n",
    "agents = [Agent(state_size=state_size, action_size=action_size, device=device, random_seed=2, memory = shared_memory,\n",
    "              ac1=512, ac2=256, cc1=512, cc2=256) for _ in range(2)]\n",
    "\n",
    "scores = maddpg(20, 2000, early_break = False, memory = shared_memory, print_every = 4)\n",
    "\n",
    "# plot the scores\n",
    "fig = plt.figure()\n",
    "ax = fig.add_subplot(111)\n",
    "plt.plot(np.arange(len(scores)), scores)\n",
    "plt.ylabel('Score')\n",
    "plt.xlabel('Episode #')\n",
    "plt.show()"
   ]
  },
  {
   "cell_type": "code",
   "execution_count": 18,
   "metadata": {},
   "outputs": [
    {
     "name": "stdout",
     "output_type": "stream",
     "text": [
      "Using device: cuda:0\n",
      "22:18:58 Starts training\n",
      "22:24:42 Episode 4\t Episode score: -0.640\tScore (last 10): -0.645\tAverage rolling for last 100: -0.645\n",
      "22:31:17 Episode 8\t Episode score: -0.660\tScore (last 10): -0.649\tAverage rolling for last 100: -0.649\n",
      "22:37:57 Episode 12\t Episode score: -0.670\tScore (last 10): -0.650\tAverage rolling for last 100: -0.649\n",
      "22:44:45 Episode 16\t Episode score: -0.630\tScore (last 10): -0.650\tAverage rolling for last 100: -0.649\n",
      "22:51:50 Episode 20\t Episode score: -0.630\tScore (last 10): -0.642\tAverage rolling for last 100: -0.643\n"
     ]
    },
    {
     "data": {
      "image/png": "[encoded data removed]",
      "text/plain": [
       "<Figure size 432x288 with 1 Axes>"
      ]
     },
     "metadata": {
      "needs_background": "light"
     },
     "output_type": "display_data"
    }
   ],
   "source": [
    "BUFFER_SIZE = int(1e6)        # replay buffer size\n",
    "BATCH_SIZE = 2048             # minibatch size\n",
    "GAMMA = 0.99                  # discount factor\n",
    "TAU = 1e-3                    # for soft update of target parameters\n",
    "LR_ACTOR = 1e-4               # learning rate of the actor \n",
    "LR_CRITIC = 3e-4              # learning rate of the critic\n",
    "WEIGHT_DECAY = 0              # L2 weight decay\n",
    "\n",
    "DDPG_LEARN_TIMES = 2\n",
    "DDPG_UPDATE_EVERY = 4\n",
    "\n",
    "NOISE_EPSILPN_MIN = 1e-2\n",
    "NOISE_EPSILON = 8.0           # explore/exploit from the noise generator\n",
    "NOISE_EPSILON_DECAY = 1e-3    # decay rate for noise process\n",
    "\n",
    "ACTOR_DROPOUT = True          # Actor: use dropout (on last layer)\n",
    "ACTOR_DROPOUT_RATE = 0.1      # Actor: dropout rate\n",
    "ACTOR_NORMALIZE = True\n",
    "\n",
    "CRITIC_DROPOUT = True         # Critic: use dropout (on last layer)\n",
    "CRITIC_DROPOUT_RATE = 0.05    # Critic: dropout rate\n",
    "CRITIC_NORMALIZE = True\n",
    "\n",
    "device = torch.device(\"cuda:0\" if torch.cuda.is_available() else \"cpu\")\n",
    "print(f\"Using device: {device}\")\n",
    "\n",
    "shared_memory = ReplayBuffer(action_size, BUFFER_SIZE, BATCH_SIZE, 2)\n",
    "agents = [Agent(state_size=state_size, action_size=action_size, device=device, random_seed=2, memory = shared_memory,\n",
    "              ac1=512, ac2=256, cc1=512, cc2=256) for _ in range(2)]\n",
    "\n",
    "scores = maddpg(20, 2000, early_break = False, memory = shared_memory, print_every = 4)\n",
    "\n",
    "# plot the scores\n",
    "fig = plt.figure()\n",
    "ax = fig.add_subplot(111)\n",
    "plt.plot(np.arange(len(scores)), scores)\n",
    "plt.ylabel('Score')\n",
    "plt.xlabel('Episode #')\n",
    "plt.show()"
   ]
  },
  {
   "cell_type": "code",
   "execution_count": 19,
   "metadata": {},
   "outputs": [
    {
     "name": "stdout",
     "output_type": "stream",
     "text": [
      "Using device: cuda:0\n",
      "22:51:51 Starts training\n",
      "22:55:54 Episode 4\t Episode score: -0.670\tScore (last 10): -0.652\tAverage rolling for last 100: -0.652\n",
      "23:00:04 Episode 8\t Episode score: -0.640\tScore (last 10): -0.645\tAverage rolling for last 100: -0.645\n",
      "23:04:21 Episode 12\t Episode score: -0.660\tScore (last 10): -0.652\tAverage rolling for last 100: -0.647\n",
      "23:08:41 Episode 16\t Episode score: -0.630\tScore (last 10): -0.616\tAverage rolling for last 100: -0.634\n",
      "23:12:57 Episode 20\t Episode score: -0.680\tScore (last 10): -0.636\tAverage rolling for last 100: -0.639\n"
     ]
    },
    {
     "data": {
      "image/png": "[encoded data removed]",
      "text/plain": [
       "<Figure size 432x288 with 1 Axes>"
      ]
     },
     "metadata": {
      "needs_background": "light"
     },
     "output_type": "display_data"
    }
   ],
   "source": [
    "BUFFER_SIZE = int(1e6)        # replay buffer size\n",
    "BATCH_SIZE = 512              # minibatch size\n",
    "GAMMA = 0.99                  # discount factor\n",
    "TAU = 1e-3                    # for soft update of target parameters\n",
    "LR_ACTOR = 1e-4               # learning rate of the actor \n",
    "LR_CRITIC = 3e-4              # learning rate of the critic\n",
    "WEIGHT_DECAY = 0              # L2 weight decay\n",
    "\n",
    "DDPG_LEARN_TIMES = 2\n",
    "DDPG_UPDATE_EVERY = 4\n",
    "\n",
    "NOISE_EPSILPN_MIN = 1e-2\n",
    "NOISE_EPSILON = 8.0           # explore/exploit from the noise generator\n",
    "NOISE_EPSILON_DECAY = 1e-3    # decay rate for noise process\n",
    "\n",
    "ACTOR_DROPOUT = True          # Actor: use dropout (on last layer)\n",
    "ACTOR_DROPOUT_RATE = 0.1      # Actor: dropout rate\n",
    "ACTOR_NORMALIZE = True\n",
    "\n",
    "CRITIC_DROPOUT = True         # Critic: use dropout (on last layer)\n",
    "CRITIC_DROPOUT_RATE = 0.05    # Critic: dropout rate\n",
    "CRITIC_NORMALIZE = True\n",
    "\n",
    "device = torch.device(\"cuda:0\" if torch.cuda.is_available() else \"cpu\")\n",
    "print(f\"Using device: {device}\")\n",
    "\n",
    "shared_memory = ReplayBuffer(action_size, BUFFER_SIZE, BATCH_SIZE, 2)\n",
    "agents = [Agent(state_size=state_size, action_size=action_size, device=device, random_seed=2, memory = shared_memory,\n",
    "              ac1=512, ac2=256, cc1=512, cc2=256) for _ in range(2)]\n",
    "\n",
    "scores = maddpg(20, 2000, early_break = False, memory = shared_memory, print_every = 4)\n",
    "\n",
    "# plot the scores\n",
    "fig = plt.figure()\n",
    "ax = fig.add_subplot(111)\n",
    "plt.plot(np.arange(len(scores)), scores)\n",
    "plt.ylabel('Score')\n",
    "plt.xlabel('Episode #')\n",
    "plt.show()"
   ]
  },
  {
   "cell_type": "code",
   "execution_count": 34,
   "metadata": {},
   "outputs": [
    {
     "name": "stdout",
     "output_type": "stream",
     "text": [
      "Using device: cuda:0\n",
      "00:01:38 Starts training\n",
      "00:05:47 Episode 4\t Episode score: -0.650\tScore (last 10): -0.665\tAverage rolling for last 100: -0.665\n",
      "00:09:56 Episode 8\t Episode score: -0.630\tScore (last 10): -0.646\tAverage rolling for last 100: -0.646\n",
      "00:14:06 Episode 12\t Episode score: -0.690\tScore (last 10): -0.635\tAverage rolling for last 100: -0.642\n",
      "00:18:18 Episode 16\t Episode score: -0.660\tScore (last 10): -0.633\tAverage rolling for last 100: -0.642\n",
      "00:22:33 Episode 20\t Episode score: -0.590\tScore (last 10): -0.645\tAverage rolling for last 100: -0.644\n"
     ]
    },
    {
     "ename": "KeyboardInterrupt",
     "evalue": "",
     "output_type": "error",
     "traceback": [
      "\u001b[1;31m---------------------------------------------------------------------------\u001b[0m",
      "\u001b[1;31mKeyboardInterrupt\u001b[0m                         Traceback (most recent call last)",
      "\u001b[1;32m<ipython-input-34-96d297d6056c>\u001b[0m in \u001b[0;36m<module>\u001b[1;34m\u001b[0m\n\u001b[0;32m     31\u001b[0m               ac1=512, ac2=256, cc1=512, cc2=256) for _ in range(2)]\n\u001b[0;32m     32\u001b[0m \u001b[1;33m\u001b[0m\u001b[0m\n\u001b[1;32m---> 33\u001b[1;33m \u001b[0mscores\u001b[0m \u001b[1;33m=\u001b[0m \u001b[0mmaddpg\u001b[0m\u001b[1;33m(\u001b[0m\u001b[1;36m50\u001b[0m\u001b[1;33m,\u001b[0m \u001b[1;36m2000\u001b[0m\u001b[1;33m,\u001b[0m \u001b[0mearly_break\u001b[0m \u001b[1;33m=\u001b[0m \u001b[1;32mFalse\u001b[0m\u001b[1;33m,\u001b[0m \u001b[0mmemory\u001b[0m \u001b[1;33m=\u001b[0m \u001b[0mshared_memory\u001b[0m\u001b[1;33m,\u001b[0m \u001b[0mprint_every\u001b[0m \u001b[1;33m=\u001b[0m \u001b[1;36m4\u001b[0m\u001b[1;33m)\u001b[0m\u001b[1;33m\u001b[0m\u001b[1;33m\u001b[0m\u001b[0m\n\u001b[0m\u001b[0;32m     34\u001b[0m \u001b[1;33m\u001b[0m\u001b[0m\n\u001b[0;32m     35\u001b[0m \u001b[1;31m# plot the scores\u001b[0m\u001b[1;33m\u001b[0m\u001b[1;33m\u001b[0m\u001b[1;33m\u001b[0m\u001b[0m\n",
      "\u001b[1;32m<ipython-input-29-9a0109aaeda3>\u001b[0m in \u001b[0;36mmaddpg\u001b[1;34m(n_episodes, max_t, memory, window_size, print_every, early_break)\u001b[0m\n\u001b[0;32m     16\u001b[0m \u001b[1;33m\u001b[0m\u001b[0m\n\u001b[0;32m     17\u001b[0m         \u001b[1;32mfor\u001b[0m \u001b[0mt\u001b[0m \u001b[1;32min\u001b[0m \u001b[0mrange\u001b[0m\u001b[1;33m(\u001b[0m\u001b[0mmax_t\u001b[0m\u001b[1;33m)\u001b[0m\u001b[1;33m:\u001b[0m\u001b[1;33m\u001b[0m\u001b[1;33m\u001b[0m\u001b[0m\n\u001b[1;32m---> 18\u001b[1;33m             \u001b[0mactions\u001b[0m \u001b[1;33m=\u001b[0m \u001b[1;33m[\u001b[0m\u001b[0magent\u001b[0m\u001b[1;33m.\u001b[0m\u001b[0mact\u001b[0m\u001b[1;33m(\u001b[0m\u001b[0mnp\u001b[0m\u001b[1;33m.\u001b[0m\u001b[0mexpand_dims\u001b[0m\u001b[1;33m(\u001b[0m\u001b[0mstates\u001b[0m\u001b[1;33m,\u001b[0m \u001b[0maxis\u001b[0m\u001b[1;33m=\u001b[0m\u001b[1;36m0\u001b[0m\u001b[1;33m)\u001b[0m\u001b[1;33m)\u001b[0m \u001b[1;32mfor\u001b[0m \u001b[0magent\u001b[0m\u001b[1;33m,\u001b[0m \u001b[0mstates\u001b[0m \u001b[1;32min\u001b[0m \u001b[0mzip\u001b[0m\u001b[1;33m(\u001b[0m\u001b[0magents\u001b[0m\u001b[1;33m,\u001b[0m \u001b[0mall_states\u001b[0m\u001b[1;33m)\u001b[0m\u001b[1;33m]\u001b[0m\u001b[1;33m\u001b[0m\u001b[1;33m\u001b[0m\u001b[0m\n\u001b[0m\u001b[0;32m     19\u001b[0m \u001b[1;33m\u001b[0m\u001b[0m\n\u001b[0;32m     20\u001b[0m             \u001b[0menv_info\u001b[0m \u001b[1;33m=\u001b[0m \u001b[0menv\u001b[0m\u001b[1;33m.\u001b[0m\u001b[0mstep\u001b[0m\u001b[1;33m(\u001b[0m\u001b[0mactions\u001b[0m\u001b[1;33m)\u001b[0m\u001b[1;33m[\u001b[0m\u001b[0mbrain_name\u001b[0m\u001b[1;33m]\u001b[0m\u001b[1;33m\u001b[0m\u001b[1;33m\u001b[0m\u001b[0m\n",
      "\u001b[1;32m<ipython-input-29-9a0109aaeda3>\u001b[0m in \u001b[0;36m<listcomp>\u001b[1;34m(.0)\u001b[0m\n\u001b[0;32m     16\u001b[0m \u001b[1;33m\u001b[0m\u001b[0m\n\u001b[0;32m     17\u001b[0m         \u001b[1;32mfor\u001b[0m \u001b[0mt\u001b[0m \u001b[1;32min\u001b[0m \u001b[0mrange\u001b[0m\u001b[1;33m(\u001b[0m\u001b[0mmax_t\u001b[0m\u001b[1;33m)\u001b[0m\u001b[1;33m:\u001b[0m\u001b[1;33m\u001b[0m\u001b[1;33m\u001b[0m\u001b[0m\n\u001b[1;32m---> 18\u001b[1;33m             \u001b[0mactions\u001b[0m \u001b[1;33m=\u001b[0m \u001b[1;33m[\u001b[0m\u001b[0magent\u001b[0m\u001b[1;33m.\u001b[0m\u001b[0mact\u001b[0m\u001b[1;33m(\u001b[0m\u001b[0mnp\u001b[0m\u001b[1;33m.\u001b[0m\u001b[0mexpand_dims\u001b[0m\u001b[1;33m(\u001b[0m\u001b[0mstates\u001b[0m\u001b[1;33m,\u001b[0m \u001b[0maxis\u001b[0m\u001b[1;33m=\u001b[0m\u001b[1;36m0\u001b[0m\u001b[1;33m)\u001b[0m\u001b[1;33m)\u001b[0m \u001b[1;32mfor\u001b[0m \u001b[0magent\u001b[0m\u001b[1;33m,\u001b[0m \u001b[0mstates\u001b[0m \u001b[1;32min\u001b[0m \u001b[0mzip\u001b[0m\u001b[1;33m(\u001b[0m\u001b[0magents\u001b[0m\u001b[1;33m,\u001b[0m \u001b[0mall_states\u001b[0m\u001b[1;33m)\u001b[0m\u001b[1;33m]\u001b[0m\u001b[1;33m\u001b[0m\u001b[1;33m\u001b[0m\u001b[0m\n\u001b[0m\u001b[0;32m     19\u001b[0m \u001b[1;33m\u001b[0m\u001b[0m\n\u001b[0;32m     20\u001b[0m             \u001b[0menv_info\u001b[0m \u001b[1;33m=\u001b[0m \u001b[0menv\u001b[0m\u001b[1;33m.\u001b[0m\u001b[0mstep\u001b[0m\u001b[1;33m(\u001b[0m\u001b[0mactions\u001b[0m\u001b[1;33m)\u001b[0m\u001b[1;33m[\u001b[0m\u001b[0mbrain_name\u001b[0m\u001b[1;33m]\u001b[0m\u001b[1;33m\u001b[0m\u001b[1;33m\u001b[0m\u001b[0m\n",
      "\u001b[1;32m<ipython-input-28-bd1cea3d87a1>\u001b[0m in \u001b[0;36mact\u001b[1;34m(self, states, add_noise)\u001b[0m\n\u001b[0;32m     43\u001b[0m     \u001b[1;32mdef\u001b[0m \u001b[0mact\u001b[0m\u001b[1;33m(\u001b[0m\u001b[0mself\u001b[0m\u001b[1;33m,\u001b[0m \u001b[0mstates\u001b[0m\u001b[1;33m,\u001b[0m \u001b[0madd_noise\u001b[0m\u001b[1;33m=\u001b[0m\u001b[1;32mTrue\u001b[0m\u001b[1;33m)\u001b[0m\u001b[1;33m:\u001b[0m\u001b[1;33m\u001b[0m\u001b[1;33m\u001b[0m\u001b[0m\n\u001b[0;32m     44\u001b[0m         \u001b[1;34m\"\"\"Returns actions for given state as per current policy.\"\"\"\u001b[0m\u001b[1;33m\u001b[0m\u001b[1;33m\u001b[0m\u001b[0m\n\u001b[1;32m---> 45\u001b[1;33m         \u001b[0mstates\u001b[0m \u001b[1;33m=\u001b[0m \u001b[0mtorch\u001b[0m\u001b[1;33m.\u001b[0m\u001b[0mfrom_numpy\u001b[0m\u001b[1;33m(\u001b[0m\u001b[0mstates\u001b[0m\u001b[1;33m)\u001b[0m\u001b[1;33m.\u001b[0m\u001b[0mfloat\u001b[0m\u001b[1;33m(\u001b[0m\u001b[1;33m)\u001b[0m\u001b[1;33m.\u001b[0m\u001b[0mto\u001b[0m\u001b[1;33m(\u001b[0m\u001b[0mdevice\u001b[0m\u001b[1;33m)\u001b[0m\u001b[1;33m\u001b[0m\u001b[1;33m\u001b[0m\u001b[0m\n\u001b[0m\u001b[0;32m     46\u001b[0m         \u001b[0mself\u001b[0m\u001b[1;33m.\u001b[0m\u001b[0mactor_local\u001b[0m\u001b[1;33m.\u001b[0m\u001b[0meval\u001b[0m\u001b[1;33m(\u001b[0m\u001b[1;33m)\u001b[0m\u001b[1;33m\u001b[0m\u001b[1;33m\u001b[0m\u001b[0m\n\u001b[0;32m     47\u001b[0m \u001b[1;33m\u001b[0m\u001b[0m\n",
      "\u001b[1;31mKeyboardInterrupt\u001b[0m: "
     ]
    }
   ],
   "source": [
    "BUFFER_SIZE = int(1e8)        # replay buffer size\n",
    "BATCH_SIZE = 512              # minibatch size\n",
    "GAMMA = 0.99                  # discount factor\n",
    "TAU = 1e-3                    # for soft update of target parameters\n",
    "LR_ACTOR = 1e-4               # learning rate of the actor \n",
    "LR_CRITIC = 3e-4              # learning rate of the critic\n",
    "WEIGHT_DECAY = 0              # L2 weight decay\n",
    "\n",
    "DDPG_LEARN_TIMES = 2\n",
    "DDPG_UPDATE_EVERY = 4\n",
    "\n",
    "NOISE_EPSILPN_MIN = 1e-2\n",
    "NOISE_EPSILON = 8.0           # explore/exploit from the noise generator\n",
    "NOISE_EPSILON_DECAY = 1e-3    # decay rate for noise process\n",
    "\n",
    "ACTOR_DROPOUT = False         # Actor: use dropout (on last layer)\n",
    "ACTOR_DROPOUT_RATE = 0.10     # Actor: dropout rate\n",
    "ACTOR_NORMALIZE = False\n",
    "ACTOR_NORMALIZE_STATES = True #\n",
    "\n",
    "CRITIC_DROPOUT = True         # Critic: use dropout (on last layer)\n",
    "CRITIC_DROPOUT_RATE = 0.20    # Critic: dropout rate\n",
    "CRITIC_NORMALIZE = False\n",
    "CRITIC_NORMALIZE_STATES = True\n",
    "\n",
    "device = torch.device(\"cuda:0\" if torch.cuda.is_available() else \"cpu\")\n",
    "print(f\"Using device: {device}\")\n",
    "\n",
    "shared_memory = ReplayBuffer(action_size, BUFFER_SIZE, BATCH_SIZE, 2)\n",
    "agents = [Agent(state_size=state_size, action_size=action_size, device=device, random_seed=2, memory = shared_memory,\n",
    "              ac1=512, ac2=256, cc1=512, cc2=256) for _ in range(2)]\n",
    "\n",
    "scores = maddpg(50, 2000, early_break = False, memory = shared_memory, print_every = 4)\n",
    "\n",
    "# plot the scores\n",
    "fig = plt.figure()\n",
    "ax = fig.add_subplot(111)\n",
    "plt.plot(np.arange(len(scores)), scores)\n",
    "plt.ylabel('Score')\n",
    "plt.xlabel('Episode #')\n",
    "plt.show()"
   ]
  },
  {
   "cell_type": "code",
   "execution_count": 35,
   "metadata": {},
   "outputs": [
    {
     "name": "stdout",
     "output_type": "stream",
     "text": [
      "Using device: cuda:0\n",
      "00:24:26 Starts training\n",
      "00:28:26 Episode 4\t Episode score: -0.580\tScore (last 10): -0.625\tAverage rolling for last 100: -0.625\n",
      "00:32:36 Episode 8\t Episode score: -0.520\tScore (last 10): -0.616\tAverage rolling for last 100: -0.616\n",
      "00:36:48 Episode 12\t Episode score: -0.680\tScore (last 10): -0.644\tAverage rolling for last 100: -0.640\n",
      "00:41:01 Episode 16\t Episode score: -0.660\tScore (last 10): -0.634\tAverage rolling for last 100: -0.632\n",
      "00:45:17 Episode 20\t Episode score: -0.680\tScore (last 10): -0.639\tAverage rolling for last 100: -0.635\n",
      "00:49:35 Episode 24\t Episode score: -0.680\tScore (last 10): -0.649\tAverage rolling for last 100: -0.641\n",
      "00:53:55 Episode 28\t Episode score: -0.650\tScore (last 10): -0.645\tAverage rolling for last 100: -0.636\n",
      "00:58:17 Episode 32\t Episode score: -0.670\tScore (last 10): -0.621\tAverage rolling for last 100: -0.632\n",
      "01:02:40 Episode 36\t Episode score: -0.640\tScore (last 10): -0.631\tAverage rolling for last 100: -0.636\n",
      "01:07:07 Episode 40\t Episode score: -0.680\tScore (last 10): -0.643\tAverage rolling for last 100: -0.634\n",
      "01:11:34 Episode 44\t Episode score: -0.660\tScore (last 10): -0.632\tAverage rolling for last 100: -0.634\n",
      "01:16:02 Episode 48\t Episode score: -0.620\tScore (last 10): -0.631\tAverage rolling for last 100: -0.634\n"
     ]
    },
    {
     "data": {
      "image/png": "[encoded data removed]",
      "text/plain": [
       "<Figure size 432x288 with 1 Axes>"
      ]
     },
     "metadata": {
      "needs_background": "light"
     },
     "output_type": "display_data"
    }
   ],
   "source": [
    "BUFFER_SIZE = int(1e8)        # replay buffer size\n",
    "BATCH_SIZE = 512              # minibatch size\n",
    "GAMMA = 0.99                  # discount factor\n",
    "TAU = 1e-3                    # for soft update of target parameters\n",
    "LR_ACTOR = 1e-4               # learning rate of the actor \n",
    "LR_CRITIC = 3e-4              # learning rate of the critic\n",
    "WEIGHT_DECAY = 0              # L2 weight decay\n",
    "\n",
    "DDPG_LEARN_TIMES = 2\n",
    "DDPG_UPDATE_EVERY = 4\n",
    "\n",
    "NOISE_EPSILPN_MIN = 1e-2\n",
    "NOISE_EPSILON = 2.0           # explore/exploit from the noise generator\n",
    "NOISE_EPSILON_DECAY = 1e-4    # decay rate for noise process\n",
    "\n",
    "ACTOR_DROPOUT = False         # Actor: use dropout (on last layer)\n",
    "ACTOR_DROPOUT_RATE = 0.10     # Actor: dropout rate\n",
    "ACTOR_NORMALIZE = False\n",
    "ACTOR_NORMALIZE_STATES = True #\n",
    "\n",
    "CRITIC_DROPOUT = True         # Critic: use dropout (on last layer)\n",
    "CRITIC_DROPOUT_RATE = 0.20    # Critic: dropout rate\n",
    "CRITIC_NORMALIZE = False\n",
    "CRITIC_NORMALIZE_STATES = True\n",
    "\n",
    "device = torch.device(\"cuda:0\" if torch.cuda.is_available() else \"cpu\")\n",
    "print(f\"Using device: {device}\")\n",
    "\n",
    "shared_memory = ReplayBuffer(action_size, BUFFER_SIZE, BATCH_SIZE, 2)\n",
    "agents = [Agent(state_size=state_size, action_size=action_size, device=device, random_seed=2, memory = shared_memory,\n",
    "              ac1=512, ac2=256, cc1=512, cc2=256) for _ in range(2)]\n",
    "\n",
    "scores = maddpg(50, 2000, early_break = False, memory = shared_memory, print_every = 4)\n",
    "\n",
    "# plot the scores\n",
    "fig = plt.figure()\n",
    "ax = fig.add_subplot(111)\n",
    "plt.plot(np.arange(len(scores)), scores)\n",
    "plt.ylabel('Score')\n",
    "plt.xlabel('Episode #')\n",
    "plt.show()"
   ]
  },
  {
   "cell_type": "code",
   "execution_count": 36,
   "metadata": {},
   "outputs": [],
   "source": [
    "env.close()"
   ]
  },
  {
   "cell_type": "code",
   "execution_count": null,
   "metadata": {},
   "outputs": [],
   "source": []
  }
 ],
 "metadata": {
  "kernelspec": {
   "display_name": "Python 3",
   "language": "python",
   "name": "python3"
  },
  "language_info": {
   "codemirror_mode": {
    "name": "ipython",
    "version": 3
   },
   "file_extension": ".py",
   "mimetype": "text/x-python",
   "name": "python",
   "nbconvert_exporter": "python",
   "pygments_lexer": "ipython3",
   "version": "3.6.7"
  }
 },
 "nbformat": 4,
 "nbformat_minor": 2
}
