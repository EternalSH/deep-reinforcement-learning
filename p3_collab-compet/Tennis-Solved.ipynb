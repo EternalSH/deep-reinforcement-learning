{
 "cells": [
  {
   "cell_type": "markdown",
   "metadata": {},
   "source": [
    "# Collaboration and Competition\n",
    "\n",
    "---\n",
    "\n",
    "In this notebook, you will learn how to use the Unity ML-Agents environment for the third project of the [Deep Reinforcement Learning Nanodegree](https://www.udacity.com/course/deep-reinforcement-learning-nanodegree--nd893) program.\n",
    "\n",
    "### 1. Start the Environment\n",
    "\n",
    "We begin by importing the necessary packages.  If the code cell below returns an error, please revisit the project instructions to double-check that you have installed [Unity ML-Agents](https://github.com/Unity-Technologies/ml-agents/blob/master/docs/Installation.md) and [NumPy](http://www.numpy.org/)."
   ]
  },
  {
   "cell_type": "code",
   "execution_count": 1,
   "metadata": {},
   "outputs": [],
   "source": [
    "from unityagents import UnityEnvironment\n",
    "import numpy as np"
   ]
  },
  {
   "cell_type": "markdown",
   "metadata": {},
   "source": [
    "Next, we will start the environment!  **_Before running the code cell below_**, change the `file_name` parameter to match the location of the Unity environment that you downloaded.\n",
    "\n",
    "- **Mac**: `\"path/to/Tennis.app\"`\n",
    "- **Windows** (x86): `\"path/to/Tennis_Windows_x86/Tennis.exe\"`\n",
    "- **Windows** (x86_64): `\"path/to/Tennis_Windows_x86_64/Tennis.exe\"`\n",
    "- **Linux** (x86): `\"path/to/Tennis_Linux/Tennis.x86\"`\n",
    "- **Linux** (x86_64): `\"path/to/Tennis_Linux/Tennis.x86_64\"`\n",
    "- **Linux** (x86, headless): `\"path/to/Tennis_Linux_NoVis/Tennis.x86\"`\n",
    "- **Linux** (x86_64, headless): `\"path/to/Tennis_Linux_NoVis/Tennis.x86_64\"`\n",
    "\n",
    "For instance, if you are using a Mac, then you downloaded `Tennis.app`.  If this file is in the same folder as the notebook, then the line below should appear as follows:\n",
    "```\n",
    "env = UnityEnvironment(file_name=\"Tennis.app\")\n",
    "```"
   ]
  },
  {
   "cell_type": "code",
   "execution_count": 2,
   "metadata": {},
   "outputs": [
    {
     "name": "stderr",
     "output_type": "stream",
     "text": [
      "INFO:unityagents:\n",
      "'Academy' started successfully!\n",
      "Unity Academy name: Academy\n",
      "        Number of Brains: 1\n",
      "        Number of External Brains : 1\n",
      "        Lesson number : 0\n",
      "        Reset Parameters :\n",
      "\t\t\n",
      "Unity brain name: TennisBrain\n",
      "        Number of Visual Observations (per agent): 0\n",
      "        Vector Observation space type: continuous\n",
      "        Vector Observation space size (per agent): 8\n",
      "        Number of stacked Vector Observation: 3\n",
      "        Vector Action space type: continuous\n",
      "        Vector Action space size (per agent): 2\n",
      "        Vector Action descriptions: , \n"
     ]
    }
   ],
   "source": [
    "env = UnityEnvironment(file_name=\"Tennis_Windows_x86_64/Tennis.exe\")"
   ]
  },
  {
   "cell_type": "markdown",
   "metadata": {},
   "source": [
    "Environments contain **_brains_** which are responsible for deciding the actions of their associated agents. Here we check for the first brain available, and set it as the default brain we will be controlling from Python."
   ]
  },
  {
   "cell_type": "code",
   "execution_count": 3,
   "metadata": {},
   "outputs": [],
   "source": [
    "# get the default brain\n",
    "brain_name = env.brain_names[0]\n",
    "brain = env.brains[brain_name]"
   ]
  },
  {
   "cell_type": "markdown",
   "metadata": {},
   "source": [
    "### 2. Examine the State and Action Spaces\n",
    "\n",
    "In this environment, two agents control rackets to bounce a ball over a net. If an agent hits the ball over the net, it receives a reward of +0.1.  If an agent lets a ball hit the ground or hits the ball out of bounds, it receives a reward of -0.01.  Thus, the goal of each agent is to keep the ball in play.\n",
    "\n",
    "The observation space consists of 8 variables corresponding to the position and velocity of the ball and racket. Two continuous actions are available, corresponding to movement toward (or away from) the net, and jumping. \n",
    "\n",
    "Run the code cell below to print some information about the environment."
   ]
  },
  {
   "cell_type": "code",
   "execution_count": 4,
   "metadata": {},
   "outputs": [
    {
     "name": "stdout",
     "output_type": "stream",
     "text": [
      "Number of agents: 2\n",
      "Size of each action: 2\n",
      "There are 2 agents. Each observes a state with length: 24\n",
      "The state for the first agent looks like: [ 0.          0.          0.          0.          0.          0.\n",
      "  0.          0.          0.          0.          0.          0.\n",
      "  0.          0.          0.          0.         -6.65278625 -1.5\n",
      " -0.          0.          6.83172083  6.         -0.          0.        ]\n"
     ]
    }
   ],
   "source": [
    "# reset the environment\n",
    "env_info = env.reset(train_mode=True)[brain_name]\n",
    "\n",
    "# number of agents \n",
    "num_agents = len(env_info.agents)\n",
    "print('Number of agents:', num_agents)\n",
    "\n",
    "# size of each action\n",
    "action_size = brain.vector_action_space_size\n",
    "print('Size of each action:', action_size)\n",
    "\n",
    "# examine the state space \n",
    "states = env_info.vector_observations\n",
    "state_size = states.shape[1]\n",
    "print('There are {} agents. Each observes a state with length: {}'.format(states.shape[0], state_size))\n",
    "print('The state for the first agent looks like:', states[0])"
   ]
  },
  {
   "cell_type": "markdown",
   "metadata": {},
   "source": [
    "### 3. Take Random Actions in the Environment\n",
    "\n",
    "In the next code cell, you will learn how to use the Python API to control the agents and receive feedback from the environment.\n",
    "\n",
    "Once this cell is executed, you will watch the agents' performance, if they select actions at random with each time step.  A window should pop up that allows you to observe the agents.\n",
    "\n",
    "Of course, as part of the project, you'll have to change the code so that the agents are able to use their experiences to gradually choose better actions when interacting with the environment!"
   ]
  },
  {
   "cell_type": "markdown",
   "metadata": {},
   "source": [
    "When finished, you can close the environment."
   ]
  },
  {
   "cell_type": "code",
   "execution_count": 5,
   "metadata": {},
   "outputs": [],
   "source": [
    "import numpy as np\n",
    "import random\n",
    "import copy\n",
    "from collections import namedtuple, deque\n",
    "\n",
    "import datetime\n",
    "import torch\n",
    "\n",
    "import matplotlib.pyplot as plt\n",
    "%matplotlib inline"
   ]
  },
  {
   "cell_type": "code",
   "execution_count": 6,
   "metadata": {},
   "outputs": [],
   "source": [
    "from collections import deque\n",
    "from maddpg import Agent\n",
    "\n",
    "NUM_AGENTS = 2\n",
    "\n",
    "def maddpg(n_episodes, max_t, config, window_size=100, print_every=10, early_break=False):\n",
    "    agents = [Agent(config, state_size=state_size, action_size=action_size, random_seed=0) for _ in range(2)]\n",
    "    scores_deque = deque(maxlen=window_size)\n",
    "    scores_short = deque(maxlen=print_every)\n",
    "    all_scores = []\n",
    "    start_time = datetime.datetime.now().strftime(\"%H:%M:%S\")\n",
    "    print('{} Starts training'.format(start_time))\n",
    "    \n",
    "    best = [-np.inf, -np.inf]\n",
    "    \n",
    "    for i_episode in range(1, n_episodes+1):\n",
    "        \n",
    "        for i in range(NUM_AGENTS):\n",
    "            agents[i].reset()\n",
    "            \n",
    "        env_info = env.reset(train_mode=True)[brain_name]        \n",
    "        states = np.reshape(env_info.vector_observations, (1,48))        \n",
    "        scores = np.zeros(NUM_AGENTS)\n",
    "        sum_ep = np.zeros(2)\n",
    "                    \n",
    "        t = 0\n",
    "        \n",
    "        while True:\n",
    "            t += 1            \n",
    "            \n",
    "            actions = np.concatenate((agents[0].act(states), agents[1].act(states)), axis=0).flatten()\n",
    "            env_info = env.step(actions)[brain_name]\n",
    "            \n",
    "            next_states = np.reshape(env_info.vector_observations, (1, 48))\n",
    "            rewards = env_info.rewards\n",
    "            dones = env_info.local_done\n",
    "                        \n",
    "            # Perform agent step\n",
    "            for i in range(NUM_AGENTS):  \n",
    "                agents[i].step(t, states, actions, rewards[i], next_states, dones, i)\n",
    "                sum_ep[i] += rewards[i]\n",
    "                \n",
    "            states = next_states\n",
    "            scores += np.max(rewards)\n",
    "            \n",
    "            if early_break and np.any(dones):\n",
    "                break\n",
    "\n",
    "        for i in range(NUM_AGENTS):\n",
    "            if best[i] < sum_ep[i]:\n",
    "                best[i] = sum_ep[i]\n",
    "                            \n",
    "        max_score = np.max(scores)\n",
    "        scores_deque.append(max_score)\n",
    "        scores_short.append(max_score)\n",
    "        all_scores.append(max_score)            \n",
    "            \n",
    "        if i_episode % print_every == 0:        \n",
    "            current_time = datetime.datetime.now().strftime(\"%H:%M:%S\")\n",
    "            debug_string = '{} Episode {}\\t Episode score: {:.3f}\\tAvg  100: {:.3f} {:.3f}, bests: {:.3f} {:.3f}'.format(current_time, i_episode, max_score, np.mean(scores_deque), np.mean(scores_short), best[0], best[1])\n",
    "            print(debug_string)\n",
    "           \n",
    "        if np.mean(scores_deque)>=0.5:\n",
    "            print('\\nEnvironment solved in {:d} episodes!\\tAverage Score: {:.3f}'.format(i_episode-100, np.mean(scores_deque)))\n",
    "            \n",
    "            for agent_i in range(2):\n",
    "                torch.save(agents[i].actor_local.state_dict(), 'agent_{}_checkpoint_actor.pth'.format(agent_i))\n",
    "                torch.save(agents[i].critic_local.state_dict(), 'agent_{}_checkpoint_critic.pth'.format(agent_i))\n",
    "            break\n",
    "            \n",
    "    return all_scores"
   ]
  },
  {
   "cell_type": "code",
   "execution_count": 7,
   "metadata": {},
   "outputs": [
    {
     "name": "stdout",
     "output_type": "stream",
     "text": [
      "Using device: cuda:0\n",
      "03:37:01 Starts training\n",
      "03:37:03 Episode 10\t Episode score: 0.000\tAvg  100: 0.010 0.010, bests: 0.000 0.090\n",
      "03:37:11 Episode 20\t Episode score: 0.000\tAvg  100: 0.010 0.010, bests: 0.000 0.090\n",
      "03:37:19 Episode 30\t Episode score: 0.000\tAvg  100: 0.010 0.010, bests: 0.000 0.100\n",
      "03:37:31 Episode 40\t Episode score: 0.200\tAvg  100: 0.023 0.060, bests: 0.100 0.100\n",
      "03:37:42 Episode 50\t Episode score: 0.000\tAvg  100: 0.026 0.040, bests: 0.100 0.100\n",
      "03:37:52 Episode 60\t Episode score: 0.100\tAvg  100: 0.027 0.030, bests: 0.100 0.100\n",
      "03:38:01 Episode 70\t Episode score: 0.000\tAvg  100: 0.027 0.030, bests: 0.100 0.100\n",
      "03:38:10 Episode 80\t Episode score: 0.000\tAvg  100: 0.026 0.020, bests: 0.100 0.100\n",
      "03:38:22 Episode 90\t Episode score: 0.100\tAvg  100: 0.030 0.060, bests: 0.100 0.100\n",
      "03:38:33 Episode 100\t Episode score: 0.100\tAvg  100: 0.032 0.050, bests: 0.100 0.100\n",
      "03:38:48 Episode 110\t Episode score: 0.000\tAvg  100: 0.040 0.090, bests: 0.100 0.100\n",
      "03:38:59 Episode 120\t Episode score: 0.200\tAvg  100: 0.044 0.050, bests: 0.100 0.100\n",
      "03:39:11 Episode 130\t Episode score: 0.000\tAvg  100: 0.048 0.050, bests: 0.100 0.190\n",
      "03:39:26 Episode 140\t Episode score: 0.400\tAvg  100: 0.052 0.100, bests: 0.190 0.200\n",
      "03:39:41 Episode 150\t Episode score: 0.000\tAvg  100: 0.057 0.090, bests: 0.190 0.200\n",
      "03:39:53 Episode 160\t Episode score: 0.000\tAvg  100: 0.058 0.040, bests: 0.190 0.200\n",
      "03:40:03 Episode 170\t Episode score: 0.000\tAvg  100: 0.059 0.040, bests: 0.190 0.200\n",
      "03:40:15 Episode 180\t Episode score: 0.100\tAvg  100: 0.063 0.060, bests: 0.190 0.200\n",
      "03:40:28 Episode 190\t Episode score: 0.100\tAvg  100: 0.064 0.070, bests: 0.190 0.200\n",
      "03:40:46 Episode 200\t Episode score: 0.200\tAvg  100: 0.071 0.120, bests: 0.200 0.200\n",
      "03:40:56 Episode 210\t Episode score: 0.100\tAvg  100: 0.067 0.050, bests: 0.200 0.200\n",
      "03:41:11 Episode 220\t Episode score: 0.000\tAvg  100: 0.071 0.090, bests: 0.200 0.200\n",
      "03:41:30 Episode 230\t Episode score: 0.300\tAvg  100: 0.079 0.130, bests: 0.200 0.200\n",
      "03:41:49 Episode 240\t Episode score: 0.400\tAvg  100: 0.083 0.140, bests: 0.200 0.200\n",
      "03:42:06 Episode 250\t Episode score: 0.100\tAvg  100: 0.085 0.110, bests: 0.200 0.200\n",
      "03:42:20 Episode 260\t Episode score: 0.200\tAvg  100: 0.089 0.080, bests: 0.200 0.200\n",
      "03:42:34 Episode 270\t Episode score: 0.100\tAvg  100: 0.093 0.080, bests: 0.200 0.200\n",
      "03:42:52 Episode 280\t Episode score: 0.100\tAvg  100: 0.098 0.110, bests: 0.200 0.200\n",
      "03:43:10 Episode 290\t Episode score: 0.000\tAvg  100: 0.103 0.119, bests: 0.200 0.200\n",
      "03:43:25 Episode 300\t Episode score: 0.200\tAvg  100: 0.100 0.090, bests: 0.200 0.200\n",
      "03:43:44 Episode 310\t Episode score: 0.200\tAvg  100: 0.107 0.120, bests: 0.200 0.300\n",
      "03:43:58 Episode 320\t Episode score: 0.100\tAvg  100: 0.107 0.090, bests: 0.200 0.300\n",
      "03:44:17 Episode 330\t Episode score: 0.200\tAvg  100: 0.107 0.130, bests: 0.200 0.300\n",
      "03:44:38 Episode 340\t Episode score: 0.100\tAvg  100: 0.108 0.150, bests: 0.200 0.300\n",
      "03:44:59 Episode 350\t Episode score: 0.100\tAvg  100: 0.112 0.150, bests: 0.200 0.300\n",
      "03:45:20 Episode 360\t Episode score: 0.100\tAvg  100: 0.119 0.150, bests: 0.200 0.300\n",
      "03:45:35 Episode 370\t Episode score: 0.100\tAvg  100: 0.121 0.100, bests: 0.200 0.300\n",
      "03:45:49 Episode 380\t Episode score: 0.000\tAvg  100: 0.118 0.080, bests: 0.200 0.300\n",
      "03:46:06 Episode 390\t Episode score: 0.100\tAvg  100: 0.117 0.110, bests: 0.200 0.300\n",
      "03:46:25 Episode 400\t Episode score: 0.100\tAvg  100: 0.120 0.120, bests: 0.200 0.300\n",
      "03:46:49 Episode 410\t Episode score: 0.000\tAvg  100: 0.123 0.150, bests: 0.200 0.300\n",
      "03:47:03 Episode 420\t Episode score: 0.200\tAvg  100: 0.122 0.080, bests: 0.200 0.300\n",
      "03:47:18 Episode 430\t Episode score: 0.000\tAvg  100: 0.118 0.090, bests: 0.200 0.300\n",
      "03:47:40 Episode 440\t Episode score: 0.000\tAvg  100: 0.120 0.170, bests: 0.200 0.300\n",
      "03:47:57 Episode 450\t Episode score: 0.100\tAvg  100: 0.115 0.100, bests: 0.200 0.300\n",
      "03:48:18 Episode 460\t Episode score: 0.200\tAvg  100: 0.116 0.160, bests: 0.200 0.300\n",
      "03:48:31 Episode 470\t Episode score: 0.200\tAvg  100: 0.113 0.070, bests: 0.200 0.300\n",
      "03:48:47 Episode 480\t Episode score: 0.200\tAvg  100: 0.114 0.090, bests: 0.200 0.300\n",
      "03:49:16 Episode 490\t Episode score: 0.200\tAvg  100: 0.127 0.240, bests: 0.300 0.300\n",
      "03:49:33 Episode 500\t Episode score: 0.100\tAvg  100: 0.126 0.110, bests: 0.300 0.300\n",
      "03:49:51 Episode 510\t Episode score: 0.100\tAvg  100: 0.123 0.120, bests: 0.300 0.300\n",
      "03:50:09 Episode 520\t Episode score: 0.100\tAvg  100: 0.126 0.110, bests: 0.300 0.300\n",
      "03:50:27 Episode 530\t Episode score: 0.100\tAvg  100: 0.130 0.130, bests: 0.300 0.300\n",
      "03:50:50 Episode 540\t Episode score: 0.100\tAvg  100: 0.131 0.180, bests: 0.390 0.500\n",
      "03:51:20 Episode 550\t Episode score: 0.100\tAvg  100: 0.143 0.220, bests: 0.500 0.500\n",
      "03:51:41 Episode 560\t Episode score: 0.100\tAvg  100: 0.143 0.160, bests: 0.500 0.500\n",
      "03:52:10 Episode 570\t Episode score: 0.300\tAvg  100: 0.160 0.240, bests: 0.500 0.500\n",
      "03:52:33 Episode 580\t Episode score: 0.200\tAvg  100: 0.168 0.170, bests: 0.500 0.500\n",
      "03:52:56 Episode 590\t Episode score: 0.200\tAvg  100: 0.162 0.180, bests: 0.500 0.500\n",
      "03:53:19 Episode 600\t Episode score: 0.200\tAvg  100: 0.169 0.180, bests: 0.500 0.500\n",
      "03:53:42 Episode 610\t Episode score: 0.100\tAvg  100: 0.174 0.170, bests: 0.500 0.500\n",
      "03:54:04 Episode 620\t Episode score: 0.000\tAvg  100: 0.180 0.170, bests: 0.500 0.500\n",
      "03:54:21 Episode 630\t Episode score: 0.100\tAvg  100: 0.179 0.120, bests: 0.500 0.500\n",
      "03:54:43 Episode 640\t Episode score: 0.000\tAvg  100: 0.178 0.170, bests: 0.500 0.500\n",
      "03:55:10 Episode 650\t Episode score: 0.100\tAvg  100: 0.177 0.210, bests: 0.500 0.500\n",
      "03:55:35 Episode 660\t Episode score: 0.600\tAvg  100: 0.181 0.200, bests: 0.500 0.500\n",
      "03:56:01 Episode 670\t Episode score: 0.200\tAvg  100: 0.178 0.210, bests: 0.500 0.500\n",
      "03:56:42 Episode 680\t Episode score: 0.000\tAvg  100: 0.198 0.370, bests: 0.500 0.600\n",
      "03:57:21 Episode 690\t Episode score: 0.300\tAvg  100: 0.216 0.360, bests: 0.590 0.700\n",
      "03:58:07 Episode 700\t Episode score: 0.800\tAvg  100: 0.239 0.410, bests: 0.590 0.700\n",
      "03:59:05 Episode 710\t Episode score: 0.300\tAvg  100: 0.278 0.560, bests: 1.200 1.190\n",
      "03:59:26 Episode 720\t Episode score: 0.100\tAvg  100: 0.277 0.160, bests: 1.200 1.190\n",
      "04:01:04 Episode 730\t Episode score: 0.100\tAvg  100: 0.363 0.980, bests: 2.090 2.200\n",
      "04:01:45 Episode 740\t Episode score: 0.100\tAvg  100: 0.384 0.380, bests: 2.090 2.200\n",
      "04:02:08 Episode 750\t Episode score: 0.400\tAvg  100: 0.381 0.180, bests: 2.090 2.200\n",
      "04:03:20 Episode 760\t Episode score: 1.200\tAvg  100: 0.431 0.700, bests: 2.090 2.200\n",
      "04:04:20 Episode 770\t Episode score: 0.100\tAvg  100: 0.466 0.560, bests: 2.090 2.200\n",
      "\n",
      "Environment solved in 676 episodes!\tAverage Score: 0.510\n"
     ]
    }
   ],
   "source": [
    "config = {\n",
    "    'BUFFER_SIZE': int(1e6),        # replay buffer size\n",
    "    'BATCH_SIZE': 128,              # minibatch size\n",
    "    'GAMMA': 0.99,                  # discount factor\n",
    "    'TAU': 7e-2,                    # for soft update of target parameters\n",
    "    'LR_ACTOR': 1e-3,               # learning rate of the actor \n",
    "    'LR_CRITIC': 1e-3,              # learning rate of the critic\n",
    "    'WEIGHT_DECAY': 0,              # L2 weight decay\n",
    "\n",
    "    'DDPG_LEARN_TIMES': 1,\n",
    "    'DDPG_UPDATE_EVERY': 1,\n",
    "\n",
    "    'NOISE_ASYNC': False,\n",
    "    'NOISE_EPSILON_MIN': 4e-4,\n",
    "    'NOISE_EPSILON': 5.5,           # explore/exploit from the noise generator\n",
    "    'NOISE_EPSILON_DECAY': 6e-4,    # decay rate for noise process\n",
    "\n",
    "    'OU_THETA': 0.12,\n",
    "    'OU_SIGMA': 0.2,\n",
    "\n",
    "    'device': torch.device(\"cuda:0\" if torch.cuda.is_available() else \"cpu\")\n",
    "}\n",
    "\n",
    "\n",
    "print(f\"Using device: {config['device']}\")\n",
    "scores = maddpg(3000, 2000, config, early_break = True, print_every = 10)"
   ]
  },
  {
   "cell_type": "code",
   "execution_count": 8,
   "metadata": {},
   "outputs": [],
   "source": [
    "env.close()"
   ]
  },
  {
   "cell_type": "code",
   "execution_count": 9,
   "metadata": {},
   "outputs": [
    {
     "data": {
      "image/png": "[encoded data removed]",
      "text/plain": [
       "<Figure size 432x288 with 1 Axes>"
      ]
     },
     "metadata": {
      "needs_background": "light"
     },
     "output_type": "display_data"
    },
    {
     "data": {
      "text/plain": [
       "<Figure size 432x288 with 0 Axes>"
      ]
     },
     "metadata": {},
     "output_type": "display_data"
    }
   ],
   "source": [
    "# plot the scores\n",
    "fig = plt.figure()\n",
    "ax = fig.add_subplot(111)\n",
    "plt.plot(np.arange(len(scores)), scores)\n",
    "plt.ylabel('Score')\n",
    "plt.xlabel('Episode #')\n",
    "plt.show()\n",
    "plt.savefig('result.png')"
   ]
  }
 ],
 "metadata": {
  "kernelspec": {
   "display_name": "Python 3",
   "language": "python",
   "name": "python3"
  },
  "language_info": {
   "codemirror_mode": {
    "name": "ipython",
    "version": 3
   },
   "file_extension": ".py",
   "mimetype": "text/x-python",
   "name": "python",
   "nbconvert_exporter": "python",
   "pygments_lexer": "ipython3",
   "version": "3.6.7"
  }
 },
 "nbformat": 4,
 "nbformat_minor": 2
}
